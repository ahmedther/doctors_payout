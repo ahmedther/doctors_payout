{
 "cells": [
  {
   "cell_type": "code",
   "execution_count": 1,
   "id": "a0289969",
   "metadata": {},
   "outputs": [],
   "source": [
    "import pandas as pd"
   ]
  },
  {
   "cell_type": "code",
   "execution_count": 2,
   "id": "8946ff72",
   "metadata": {},
   "outputs": [],
   "source": [
    "import numpy as np"
   ]
  },
  {
   "cell_type": "code",
   "execution_count": 3,
   "id": "46d8e2de",
   "metadata": {},
   "outputs": [],
   "source": [
    "import os"
   ]
  },
  {
   "cell_type": "code",
   "execution_count": 4,
   "id": "89dcb305",
   "metadata": {},
   "outputs": [],
   "source": [
    "from postgress_config import PostgressDB"
   ]
  },
  {
   "cell_type": "code",
   "execution_count": 5,
   "id": "375e44a6",
   "metadata": {},
   "outputs": [],
   "source": [
    "from excel_maker import Support"
   ]
  },
  {
   "cell_type": "code",
   "execution_count": 6,
   "id": "884d94ec",
   "metadata": {},
   "outputs": [],
   "source": [
    "sup = Support()"
   ]
  },
  {
   "cell_type": "code",
   "execution_count": 7,
   "id": "0d74cfc1",
   "metadata": {},
   "outputs": [],
   "source": [
    "postDB = PostgressDB()"
   ]
  },
  {
   "cell_type": "code",
   "execution_count": 8,
   "id": "7b1ca0db",
   "metadata": {},
   "outputs": [],
   "source": [
    "df_dp_ip_kh = pd.read_excel(r\"resources\\ip_payout.xlsx\")"
   ]
  },
  {
   "cell_type": "code",
   "execution_count": 9,
   "id": "5a3d9d35",
   "metadata": {},
   "outputs": [],
   "source": [
    "df_dp_ip_kh = sup.add_new_column(\n",
    "            df_dp_ip_kh, \"SOURCE OF DATA\", \"IP Admitting Doc wise rev rep\"\n",
    "        )"
   ]
  },
  {
   "cell_type": "code",
   "execution_count": 10,
   "id": "58336c65",
   "metadata": {},
   "outputs": [],
   "source": [
    " df_dp_op_kh = pd.read_excel(r\"resources\\op_payout.xlsx\")"
   ]
  },
  {
   "cell_type": "code",
   "execution_count": 11,
   "id": "2c9c4a4f",
   "metadata": {},
   "outputs": [],
   "source": [
    "df_dp_op_kh = sup.add_new_column(\n",
    "            df_dp_op_kh, \"SOURCE OF DATA\", \"Op Rev share for Ext Doc Rep\"\n",
    "        )"
   ]
  },
  {
   "cell_type": "code",
   "execution_count": 12,
   "id": "c7d315c1",
   "metadata": {},
   "outputs": [],
   "source": [
    "main_dataframe = sup.concat_dataframes(df_dp_ip_kh, df_dp_op_kh)"
   ]
  },
  {
   "cell_type": "code",
   "execution_count": 13,
   "id": "aec86a71",
   "metadata": {},
   "outputs": [],
   "source": [
    "df_dp_ip_kh = sup.delete_dataframe(df_dp_ip_kh)"
   ]
  },
  {
   "cell_type": "code",
   "execution_count": 14,
   "id": "bb2a7a32",
   "metadata": {},
   "outputs": [],
   "source": [
    "df_dp_op_kh = sup.delete_dataframe(df_dp_op_kh)"
   ]
  },
  {
   "cell_type": "code",
   "execution_count": 15,
   "id": "e31817e3",
   "metadata": {},
   "outputs": [],
   "source": [
    "doctors_list_data, doctors_list_column = postDB.applicable_doctors()"
   ]
  },
  {
   "cell_type": "code",
   "execution_count": 16,
   "id": "1a162f39",
   "metadata": {},
   "outputs": [],
   "source": [
    "doctors_list_df = pd.DataFrame(\n",
    "            data=doctors_list_data, columns=list(doctors_list_column)\n",
    "        )"
   ]
  },
  {
   "cell_type": "code",
   "execution_count": 17,
   "id": "4f5dc746",
   "metadata": {},
   "outputs": [],
   "source": [
    "main_dataframe = main_dataframe[\n",
    "            main_dataframe[\"DOCTOR_NAME\"]\n",
    "            .apply(str.upper)\n",
    "            .isin(doctors_list_df[\"doctors_name\"].apply(str.upper))\n",
    "        ]"
   ]
  },
  {
   "cell_type": "code",
   "execution_count": 18,
   "id": "59eb81ad",
   "metadata": {},
   "outputs": [],
   "source": [
    "df_dp_rh = pd.read_excel(r\"viren_ref\\RH_Data.xlsx\")"
   ]
  },
  {
   "cell_type": "code",
   "execution_count": 19,
   "id": "4e236cb2",
   "metadata": {},
   "outputs": [],
   "source": [
    "df_dp_rh = sup.add_new_column(\n",
    "            df_dp_rh, \"SOURCE OF DATA\", \"RH DATA IP Admitting Doc wise rev rep\")"
   ]
  },
  {
   "cell_type": "code",
   "execution_count": 20,
   "id": "a926b88f",
   "metadata": {},
   "outputs": [],
   "source": [
    "df_dp_rh = sup.rename_columns(\n",
    "            df_dp_rh,\n",
    "            {\n",
    "                \"BILLING_CLASS\": \"PATIENT_TYPE\",\n",
    "                \"GROSS_AMT\": \"GROSS_AMOUNT\",\n",
    "                \"NET_AMT\": \"NET_AMOUNT\",\n",
    "            },\n",
    "        )"
   ]
  },
  {
   "cell_type": "code",
   "execution_count": 21,
   "id": "d3f7a469",
   "metadata": {},
   "outputs": [],
   "source": [
    "df_dp_rh = sup.delete_columns(df_dp_rh, [\"SERVICE_GROUP\"])"
   ]
  },
  {
   "cell_type": "code",
   "execution_count": 22,
   "id": "3125f906",
   "metadata": {},
   "outputs": [],
   "source": [
    "main_dataframe = sup.concat_dataframes(main_dataframe, df_dp_rh)"
   ]
  },
  {
   "cell_type": "code",
   "execution_count": 23,
   "id": "75dba729",
   "metadata": {},
   "outputs": [],
   "source": [
    "df_dp_rh = sup.delete_dataframe(df_dp_rh)"
   ]
  },
  {
   "cell_type": "code",
   "execution_count": 24,
   "id": "a101423a",
   "metadata": {},
   "outputs": [],
   "source": [
    "doctors_list_df = sup.rename_columns(\n",
    "            doctors_list_df,\n",
    "            {\"doctors_name\": \"DOCTOR_NAME\", \"doctors_group\": \"DOCTORS_GROUP\"},\n",
    "        )"
   ]
  },
  {
   "cell_type": "code",
   "execution_count": 25,
   "id": "936ea877",
   "metadata": {},
   "outputs": [],
   "source": [
    "doctors_list_df = doctors_list_df[[\"DOCTOR_NAME\", \"DOCTORS_GROUP\"]]"
   ]
  },
  {
   "cell_type": "code",
   "execution_count": 26,
   "id": "d596b43e",
   "metadata": {},
   "outputs": [],
   "source": [
    "main_dataframe = pd.merge(\n",
    "            main_dataframe,\n",
    "            doctors_list_df[[\"DOCTOR_NAME\", \"DOCTORS_GROUP\"]],\n",
    "            on=\"DOCTOR_NAME\",\n",
    "            how=\"left\",\n",
    "        )"
   ]
  },
  {
   "cell_type": "code",
   "execution_count": 27,
   "id": "116ea160",
   "metadata": {},
   "outputs": [],
   "source": [
    "doctors_list_df = sup.delete_dataframe(doctors_list_df)"
   ]
  },
  {
   "cell_type": "code",
   "execution_count": 28,
   "id": "d7e77689",
   "metadata": {},
   "outputs": [],
   "source": [
    "main_dataframe[\"REFERENCE_GROUP\"] = main_dataframe.apply(lambda row: sup.CINP_OR_CNOP_ANE(row[\"SERVICE_CODE\"]), axis=1)"
   ]
  },
  {
   "cell_type": "code",
   "execution_count": 29,
   "id": "08987c93",
   "metadata": {},
   "outputs": [
    {
     "data": {
      "text/html": [
       "<div>\n",
       "<style scoped>\n",
       "    .dataframe tbody tr th:only-of-type {\n",
       "        vertical-align: middle;\n",
       "    }\n",
       "\n",
       "    .dataframe tbody tr th {\n",
       "        vertical-align: top;\n",
       "    }\n",
       "\n",
       "    .dataframe thead th {\n",
       "        text-align: right;\n",
       "    }\n",
       "</style>\n",
       "<table border=\"1\" class=\"dataframe\">\n",
       "  <thead>\n",
       "    <tr style=\"text-align: right;\">\n",
       "      <th></th>\n",
       "      <th>SERVICE_DATE</th>\n",
       "      <th>PATIENT_ID</th>\n",
       "      <th>EPISODE_ID</th>\n",
       "      <th>PATIENT_NAME</th>\n",
       "      <th>SERVICE_CODE</th>\n",
       "      <th>SERVICE_DESC</th>\n",
       "      <th>PATIENT_TYPE</th>\n",
       "      <th>GROSS_AMOUNT</th>\n",
       "      <th>NET_AMOUNT</th>\n",
       "      <th>DOCTOR_SHARE</th>\n",
       "      <th>DOCTOR_NAME</th>\n",
       "      <th>PHYSICIAN_ID</th>\n",
       "      <th>SOURCE OF DATA</th>\n",
       "      <th>DOCTORS_GROUP</th>\n",
       "      <th>REFERENCE_GROUP</th>\n",
       "    </tr>\n",
       "  </thead>\n",
       "  <tbody>\n",
       "    <tr>\n",
       "      <th>0</th>\n",
       "      <td>02/08/2022</td>\n",
       "      <td>KH1000714877</td>\n",
       "      <td>13965578</td>\n",
       "      <td>Mr. Kewal  Gandhi</td>\n",
       "      <td>CNOP000010</td>\n",
       "      <td>ER Consultation</td>\n",
       "      <td>Emergency</td>\n",
       "      <td>1500.0</td>\n",
       "      <td>1500.0</td>\n",
       "      <td>1500.0</td>\n",
       "      <td>DR SANTOSH WAIGANKAR</td>\n",
       "      <td>51006979</td>\n",
       "      <td>IP Admitting Doc wise rev rep</td>\n",
       "      <td>D</td>\n",
       "      <td>OP Consultation</td>\n",
       "    </tr>\n",
       "    <tr>\n",
       "      <th>1</th>\n",
       "      <td>03/08/2022</td>\n",
       "      <td>KH1000714877</td>\n",
       "      <td>13965578</td>\n",
       "      <td>Mr. Kewal  Gandhi</td>\n",
       "      <td>CNIP000046</td>\n",
       "      <td>Doctor Routine Visit - Surgical Oncology</td>\n",
       "      <td>General</td>\n",
       "      <td>1000.0</td>\n",
       "      <td>945.0</td>\n",
       "      <td>945.0</td>\n",
       "      <td>DR SANTOSH WAIGANKAR</td>\n",
       "      <td>51006979</td>\n",
       "      <td>IP Admitting Doc wise rev rep</td>\n",
       "      <td>D</td>\n",
       "      <td>IP Consultation</td>\n",
       "    </tr>\n",
       "    <tr>\n",
       "      <th>2</th>\n",
       "      <td>04/08/2022</td>\n",
       "      <td>KH1000714877</td>\n",
       "      <td>13965578</td>\n",
       "      <td>Mr. Kewal  Gandhi</td>\n",
       "      <td>CNIP000046</td>\n",
       "      <td>Doctor Routine Visit - Surgical Oncology</td>\n",
       "      <td>General</td>\n",
       "      <td>1000.0</td>\n",
       "      <td>945.0</td>\n",
       "      <td>945.0</td>\n",
       "      <td>DR SANTOSH WAIGANKAR</td>\n",
       "      <td>51006979</td>\n",
       "      <td>IP Admitting Doc wise rev rep</td>\n",
       "      <td>D</td>\n",
       "      <td>IP Consultation</td>\n",
       "    </tr>\n",
       "    <tr>\n",
       "      <th>3</th>\n",
       "      <td>05/08/2022</td>\n",
       "      <td>KH1000714877</td>\n",
       "      <td>13965578</td>\n",
       "      <td>Mr. Kewal  Gandhi</td>\n",
       "      <td>CNIP000046</td>\n",
       "      <td>Doctor Routine Visit - Surgical Oncology</td>\n",
       "      <td>General</td>\n",
       "      <td>1000.0</td>\n",
       "      <td>945.0</td>\n",
       "      <td>945.0</td>\n",
       "      <td>DR SANTOSH WAIGANKAR</td>\n",
       "      <td>51006979</td>\n",
       "      <td>IP Admitting Doc wise rev rep</td>\n",
       "      <td>D</td>\n",
       "      <td>IP Consultation</td>\n",
       "    </tr>\n",
       "    <tr>\n",
       "      <th>4</th>\n",
       "      <td>06/08/2022</td>\n",
       "      <td>KH1000714877</td>\n",
       "      <td>13965578</td>\n",
       "      <td>Mr. Kewal  Gandhi</td>\n",
       "      <td>CNIP000046</td>\n",
       "      <td>Doctor Routine Visit - Surgical Oncology</td>\n",
       "      <td>General</td>\n",
       "      <td>1000.0</td>\n",
       "      <td>945.0</td>\n",
       "      <td>945.0</td>\n",
       "      <td>DR SANTOSH WAIGANKAR</td>\n",
       "      <td>51006979</td>\n",
       "      <td>IP Admitting Doc wise rev rep</td>\n",
       "      <td>D</td>\n",
       "      <td>IP Consultation</td>\n",
       "    </tr>\n",
       "    <tr>\n",
       "      <th>...</th>\n",
       "      <td>...</td>\n",
       "      <td>...</td>\n",
       "      <td>...</td>\n",
       "      <td>...</td>\n",
       "      <td>...</td>\n",
       "      <td>...</td>\n",
       "      <td>...</td>\n",
       "      <td>...</td>\n",
       "      <td>...</td>\n",
       "      <td>...</td>\n",
       "      <td>...</td>\n",
       "      <td>...</td>\n",
       "      <td>...</td>\n",
       "      <td>...</td>\n",
       "      <td>...</td>\n",
       "    </tr>\n",
       "    <tr>\n",
       "      <th>48103</th>\n",
       "      <td>2022-08-02 00:00:00</td>\n",
       "      <td>RH1000038806</td>\n",
       "      <td>10086196</td>\n",
       "      <td>Master Nachiket D Veer</td>\n",
       "      <td>CNOP000007</td>\n",
       "      <td>Primary Consultation (Premium)</td>\n",
       "      <td>Outpatient</td>\n",
       "      <td>1800.0</td>\n",
       "      <td>1800.0</td>\n",
       "      <td>1440.0</td>\n",
       "      <td>DR.VIKAS BASA</td>\n",
       "      <td>51005661</td>\n",
       "      <td>RH DATA IP Admitting Doc wise rev rep</td>\n",
       "      <td>D</td>\n",
       "      <td>OP Consultation</td>\n",
       "    </tr>\n",
       "    <tr>\n",
       "      <th>48104</th>\n",
       "      <td>2022-08-16 00:00:00</td>\n",
       "      <td>RH1000039488</td>\n",
       "      <td>10088072</td>\n",
       "      <td>Ms Snehi Harshad Prajapati</td>\n",
       "      <td>CNOP000007</td>\n",
       "      <td>Primary Consultation (Premium)</td>\n",
       "      <td>Outpatient</td>\n",
       "      <td>1800.0</td>\n",
       "      <td>1800.0</td>\n",
       "      <td>1440.0</td>\n",
       "      <td>DR.VIKAS BASA</td>\n",
       "      <td>51005661</td>\n",
       "      <td>RH DATA IP Admitting Doc wise rev rep</td>\n",
       "      <td>D</td>\n",
       "      <td>OP Consultation</td>\n",
       "    </tr>\n",
       "    <tr>\n",
       "      <th>48105</th>\n",
       "      <td>2022-08-16 00:00:00</td>\n",
       "      <td>RH1000039496</td>\n",
       "      <td>10088089</td>\n",
       "      <td>Master Kiyansh Nagen Biswal</td>\n",
       "      <td>CNOP000007</td>\n",
       "      <td>Primary Consultation (Premium)</td>\n",
       "      <td>Outpatient</td>\n",
       "      <td>1800.0</td>\n",
       "      <td>1800.0</td>\n",
       "      <td>1440.0</td>\n",
       "      <td>DR.VIKAS BASA</td>\n",
       "      <td>51005661</td>\n",
       "      <td>RH DATA IP Admitting Doc wise rev rep</td>\n",
       "      <td>D</td>\n",
       "      <td>OP Consultation</td>\n",
       "    </tr>\n",
       "    <tr>\n",
       "      <th>48106</th>\n",
       "      <td>2022-08-16 00:00:00</td>\n",
       "      <td>RH1000039503</td>\n",
       "      <td>10088103</td>\n",
       "      <td>Ms Mishika Santosh Nair</td>\n",
       "      <td>CNOP000007</td>\n",
       "      <td>Primary Consultation (Premium)</td>\n",
       "      <td>Outpatient</td>\n",
       "      <td>1800.0</td>\n",
       "      <td>1800.0</td>\n",
       "      <td>1440.0</td>\n",
       "      <td>DR.VIKAS BASA</td>\n",
       "      <td>51005661</td>\n",
       "      <td>RH DATA IP Admitting Doc wise rev rep</td>\n",
       "      <td>D</td>\n",
       "      <td>OP Consultation</td>\n",
       "    </tr>\n",
       "    <tr>\n",
       "      <th>48107</th>\n",
       "      <td>2022-08-23 00:00:00</td>\n",
       "      <td>RH1000039897</td>\n",
       "      <td>10089191</td>\n",
       "      <td>Master Om Ramesh Gaikar</td>\n",
       "      <td>CNOP000007</td>\n",
       "      <td>Primary Consultation (Premium)</td>\n",
       "      <td>Outpatient</td>\n",
       "      <td>1800.0</td>\n",
       "      <td>1800.0</td>\n",
       "      <td>1440.0</td>\n",
       "      <td>DR.VIKAS BASA</td>\n",
       "      <td>51005661</td>\n",
       "      <td>RH DATA IP Admitting Doc wise rev rep</td>\n",
       "      <td>D</td>\n",
       "      <td>OP Consultation</td>\n",
       "    </tr>\n",
       "  </tbody>\n",
       "</table>\n",
       "<p>48108 rows × 15 columns</p>\n",
       "</div>"
      ],
      "text/plain": [
       "              SERVICE_DATE    PATIENT_ID  EPISODE_ID  \\\n",
       "0               02/08/2022  KH1000714877    13965578   \n",
       "1               03/08/2022  KH1000714877    13965578   \n",
       "2               04/08/2022  KH1000714877    13965578   \n",
       "3               05/08/2022  KH1000714877    13965578   \n",
       "4               06/08/2022  KH1000714877    13965578   \n",
       "...                    ...           ...         ...   \n",
       "48103  2022-08-02 00:00:00  RH1000038806    10086196   \n",
       "48104  2022-08-16 00:00:00  RH1000039488    10088072   \n",
       "48105  2022-08-16 00:00:00  RH1000039496    10088089   \n",
       "48106  2022-08-16 00:00:00  RH1000039503    10088103   \n",
       "48107  2022-08-23 00:00:00  RH1000039897    10089191   \n",
       "\n",
       "                      PATIENT_NAME SERVICE_CODE  \\\n",
       "0                Mr. Kewal  Gandhi   CNOP000010   \n",
       "1                Mr. Kewal  Gandhi   CNIP000046   \n",
       "2                Mr. Kewal  Gandhi   CNIP000046   \n",
       "3                Mr. Kewal  Gandhi   CNIP000046   \n",
       "4                Mr. Kewal  Gandhi   CNIP000046   \n",
       "...                            ...          ...   \n",
       "48103       Master Nachiket D Veer   CNOP000007   \n",
       "48104   Ms Snehi Harshad Prajapati   CNOP000007   \n",
       "48105  Master Kiyansh Nagen Biswal   CNOP000007   \n",
       "48106      Ms Mishika Santosh Nair   CNOP000007   \n",
       "48107      Master Om Ramesh Gaikar   CNOP000007   \n",
       "\n",
       "                                   SERVICE_DESC PATIENT_TYPE  GROSS_AMOUNT  \\\n",
       "0                               ER Consultation    Emergency        1500.0   \n",
       "1      Doctor Routine Visit - Surgical Oncology      General        1000.0   \n",
       "2      Doctor Routine Visit - Surgical Oncology      General        1000.0   \n",
       "3      Doctor Routine Visit - Surgical Oncology      General        1000.0   \n",
       "4      Doctor Routine Visit - Surgical Oncology      General        1000.0   \n",
       "...                                         ...          ...           ...   \n",
       "48103            Primary Consultation (Premium)   Outpatient        1800.0   \n",
       "48104            Primary Consultation (Premium)   Outpatient        1800.0   \n",
       "48105            Primary Consultation (Premium)   Outpatient        1800.0   \n",
       "48106            Primary Consultation (Premium)   Outpatient        1800.0   \n",
       "48107            Primary Consultation (Premium)   Outpatient        1800.0   \n",
       "\n",
       "       NET_AMOUNT  DOCTOR_SHARE           DOCTOR_NAME PHYSICIAN_ID  \\\n",
       "0          1500.0        1500.0  DR SANTOSH WAIGANKAR     51006979   \n",
       "1           945.0         945.0  DR SANTOSH WAIGANKAR     51006979   \n",
       "2           945.0         945.0  DR SANTOSH WAIGANKAR     51006979   \n",
       "3           945.0         945.0  DR SANTOSH WAIGANKAR     51006979   \n",
       "4           945.0         945.0  DR SANTOSH WAIGANKAR     51006979   \n",
       "...           ...           ...                   ...          ...   \n",
       "48103      1800.0        1440.0         DR.VIKAS BASA     51005661   \n",
       "48104      1800.0        1440.0         DR.VIKAS BASA     51005661   \n",
       "48105      1800.0        1440.0         DR.VIKAS BASA     51005661   \n",
       "48106      1800.0        1440.0         DR.VIKAS BASA     51005661   \n",
       "48107      1800.0        1440.0         DR.VIKAS BASA     51005661   \n",
       "\n",
       "                              SOURCE OF DATA DOCTORS_GROUP  REFERENCE_GROUP  \n",
       "0              IP Admitting Doc wise rev rep             D  OP Consultation  \n",
       "1              IP Admitting Doc wise rev rep             D  IP Consultation  \n",
       "2              IP Admitting Doc wise rev rep             D  IP Consultation  \n",
       "3              IP Admitting Doc wise rev rep             D  IP Consultation  \n",
       "4              IP Admitting Doc wise rev rep             D  IP Consultation  \n",
       "...                                      ...           ...              ...  \n",
       "48103  RH DATA IP Admitting Doc wise rev rep             D  OP Consultation  \n",
       "48104  RH DATA IP Admitting Doc wise rev rep             D  OP Consultation  \n",
       "48105  RH DATA IP Admitting Doc wise rev rep             D  OP Consultation  \n",
       "48106  RH DATA IP Admitting Doc wise rev rep             D  OP Consultation  \n",
       "48107  RH DATA IP Admitting Doc wise rev rep             D  OP Consultation  \n",
       "\n",
       "[48108 rows x 15 columns]"
      ]
     },
     "execution_count": 29,
     "metadata": {},
     "output_type": "execute_result"
    }
   ],
   "source": [
    "main_dataframe"
   ]
  },
  {
   "cell_type": "code",
   "execution_count": 30,
   "id": "6986ced7",
   "metadata": {},
   "outputs": [],
   "source": [
    "transplant_dataframe = pd.read_excel(r'viren_ref\\transplant.xlsx')"
   ]
  },
  {
   "cell_type": "code",
   "execution_count": 31,
   "id": "1655eb09",
   "metadata": {},
   "outputs": [],
   "source": [
    "transplant_dataframe =transplant_dataframe.dropna()"
   ]
  },
  {
   "cell_type": "code",
   "execution_count": 32,
   "id": "be78da89",
   "metadata": {},
   "outputs": [],
   "source": [
    "transp_df_uhid= list(transplant_dataframe['UHID']) + list(transplant_dataframe['UHID.1'])"
   ]
  },
  {
   "cell_type": "code",
   "execution_count": 33,
   "id": "e1f4ddcb",
   "metadata": {},
   "outputs": [],
   "source": [
    "postDB = PostgressDB()"
   ]
  },
  {
   "cell_type": "code",
   "execution_count": 34,
   "id": "ca17b83b",
   "metadata": {},
   "outputs": [],
   "source": [
    "transplant_doctor_data, column_name = postDB.transplant_doctors('HPB and Liver Transplant')"
   ]
  },
  {
   "cell_type": "code",
   "execution_count": 35,
   "id": "dfd2e08f",
   "metadata": {},
   "outputs": [],
   "source": [
    "transp_df = pd.DataFrame(\n",
    "            data=transplant_doctor_data,\n",
    "            columns=list(column_name),\n",
    "        )"
   ]
  },
  {
   "cell_type": "code",
   "execution_count": 36,
   "id": "2b04cde2",
   "metadata": {},
   "outputs": [
    {
     "name": "stderr",
     "output_type": "stream",
     "text": [
      "D:\\Python Projects\\doctors_payout\\Scripts\\doctors_payout\\payout_app\\excel_maker.py:186: SettingWithCopyWarning: \n",
      "A value is trying to be set on a copy of a slice from a DataFrame.\n",
      "Try using .loc[row_indexer,col_indexer] = value instead\n",
      "\n",
      "See the caveats in the documentation: https://pandas.pydata.org/pandas-docs/stable/user_guide/indexing.html#returning-a-view-versus-a-copy\n",
      "  row[\"DOCTOR_NAME\"] = doc\n",
      "D:\\Python Projects\\doctors_payout\\Scripts\\doctors_payout\\payout_app\\excel_maker.py:192: SettingWithCopyWarning: \n",
      "A value is trying to be set on a copy of a slice from a DataFrame.\n",
      "Try using .loc[row_indexer,col_indexer] = value instead\n",
      "\n",
      "See the caveats in the documentation: https://pandas.pydata.org/pandas-docs/stable/user_guide/indexing.html#returning-a-view-versus-a-copy\n",
      "  row[\"DOCTOR_SHARE\"] = (\n",
      "D:\\Python Projects\\doctors_payout\\Scripts\\doctors_payout\\payout_app\\excel_maker.py:204: SettingWithCopyWarning: \n",
      "A value is trying to be set on a copy of a slice from a DataFrame.\n",
      "Try using .loc[row_indexer,col_indexer] = value instead\n",
      "\n",
      "See the caveats in the documentation: https://pandas.pydata.org/pandas-docs/stable/user_guide/indexing.html#returning-a-view-versus-a-copy\n",
      "  row[\"DOCTOR_NAME\"] = doc\n",
      "D:\\Python Projects\\doctors_payout\\Scripts\\doctors_payout\\payout_app\\excel_maker.py:210: SettingWithCopyWarning: \n",
      "A value is trying to be set on a copy of a slice from a DataFrame.\n",
      "Try using .loc[row_indexer,col_indexer] = value instead\n",
      "\n",
      "See the caveats in the documentation: https://pandas.pydata.org/pandas-docs/stable/user_guide/indexing.html#returning-a-view-versus-a-copy\n",
      "  row[\"DOCTOR_SHARE\"] = (\n"
     ]
    }
   ],
   "source": [
    "main_dataframe = sup.transplant_working(main_dataframe, transp_df,transp_df_uhid)"
   ]
  },
  {
   "cell_type": "code",
   "execution_count": 37,
   "id": "a3401df4",
   "metadata": {},
   "outputs": [],
   "source": [
    "postDB = PostgressDB()"
   ]
  },
  {
   "cell_type": "code",
   "execution_count": 38,
   "id": "ebe66a71",
   "metadata": {},
   "outputs": [],
   "source": [
    "transplant_doctor_data, column_name = postDB.transplant_doctors(\"UROLOGY\")"
   ]
  },
  {
   "cell_type": "code",
   "execution_count": 39,
   "id": "aa66ae82",
   "metadata": {},
   "outputs": [],
   "source": [
    "transp_df = pd.DataFrame(\n",
    "            data=transplant_doctor_data,\n",
    "            columns=list(column_name),\n",
    "        )"
   ]
  },
  {
   "cell_type": "code",
   "execution_count": 40,
   "id": "96840fe1",
   "metadata": {},
   "outputs": [
    {
     "name": "stderr",
     "output_type": "stream",
     "text": [
      "D:\\Python Projects\\doctors_payout\\Scripts\\doctors_payout\\payout_app\\excel_maker.py:204: SettingWithCopyWarning: \n",
      "A value is trying to be set on a copy of a slice from a DataFrame.\n",
      "Try using .loc[row_indexer,col_indexer] = value instead\n",
      "\n",
      "See the caveats in the documentation: https://pandas.pydata.org/pandas-docs/stable/user_guide/indexing.html#returning-a-view-versus-a-copy\n",
      "  row[\"DOCTOR_NAME\"] = doc\n",
      "D:\\Python Projects\\doctors_payout\\Scripts\\doctors_payout\\payout_app\\excel_maker.py:210: SettingWithCopyWarning: \n",
      "A value is trying to be set on a copy of a slice from a DataFrame.\n",
      "Try using .loc[row_indexer,col_indexer] = value instead\n",
      "\n",
      "See the caveats in the documentation: https://pandas.pydata.org/pandas-docs/stable/user_guide/indexing.html#returning-a-view-versus-a-copy\n",
      "  row[\"DOCTOR_SHARE\"] = (\n"
     ]
    }
   ],
   "source": [
    "main_dataframe = sup.transplant_working(\n",
    "            main_dataframe, transp_df, transp_df_uhid\n",
    "        )"
   ]
  },
  {
   "cell_type": "code",
   "execution_count": 41,
   "id": "8e12c67c",
   "metadata": {},
   "outputs": [],
   "source": [
    "transp_df = sup.delete_dataframe(transp_df)"
   ]
  },
  {
   "cell_type": "code",
   "execution_count": 42,
   "id": "3bcce5ba",
   "metadata": {},
   "outputs": [],
   "source": [
    "transplant_dataframe = sup.delete_dataframe(transplant_dataframe)"
   ]
  },
  {
   "cell_type": "code",
   "execution_count": 43,
   "id": "dad992d9",
   "metadata": {},
   "outputs": [],
   "source": [
    "main_dataframe = sup.srs_distribution(main_dataframe)"
   ]
  },
  {
   "cell_type": "code",
   "execution_count": 44,
   "id": "1e0a7ea2",
   "metadata": {},
   "outputs": [
    {
     "data": {
      "text/plain": [
       "'D:\\\\Python Projects\\\\doctors_payout\\\\Scripts\\\\doctors_payout/main_dataframe-24-Sep-2022-15-55-33-490509.xlsx'"
      ]
     },
     "execution_count": 44,
     "metadata": {},
     "output_type": "execute_result"
    }
   ],
   "source": [
    "sup.excel_generator(excel_data=main_dataframe, page_name=\"main_dataframe\")"
   ]
  }
 ],
 "metadata": {
  "kernelspec": {
   "display_name": "Python 3 (ipykernel)",
   "language": "python",
   "name": "python3"
  },
  "language_info": {
   "codemirror_mode": {
    "name": "ipython",
    "version": 3
   },
   "file_extension": ".py",
   "mimetype": "text/x-python",
   "name": "python",
   "nbconvert_exporter": "python",
   "pygments_lexer": "ipython3",
   "version": "3.10.4"
  }
 },
 "nbformat": 4,
 "nbformat_minor": 5
}
