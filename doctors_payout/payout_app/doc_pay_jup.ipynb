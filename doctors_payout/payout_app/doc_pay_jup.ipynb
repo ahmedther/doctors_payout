{
 "cells": [
  {
   "cell_type": "code",
   "execution_count": 1,
   "id": "a0289969",
   "metadata": {},
   "outputs": [],
   "source": [
    "import pandas as pd"
   ]
  },
  {
   "cell_type": "code",
   "execution_count": 2,
   "id": "8946ff72",
   "metadata": {},
   "outputs": [],
   "source": [
    "import numpy as np"
   ]
  },
  {
   "cell_type": "code",
   "execution_count": 3,
   "id": "46d8e2de",
   "metadata": {},
   "outputs": [],
   "source": [
    "import os"
   ]
  },
  {
   "cell_type": "code",
   "execution_count": 4,
   "id": "89dcb305",
   "metadata": {},
   "outputs": [],
   "source": [
    "from postgress_config import PostgressDB"
   ]
  },
  {
   "cell_type": "code",
   "execution_count": 5,
   "id": "375e44a6",
   "metadata": {},
   "outputs": [
    {
     "ename": "ModuleNotFoundError",
     "evalue": "No module named 'payout_app'",
     "output_type": "error",
     "traceback": [
      "\u001b[1;31m---------------------------------------------------------------------------\u001b[0m",
      "\u001b[1;31mModuleNotFoundError\u001b[0m                       Traceback (most recent call last)",
      "Cell \u001b[1;32mIn[5], line 1\u001b[0m\n\u001b[1;32m----> 1\u001b[0m \u001b[38;5;28;01mfrom\u001b[39;00m \u001b[38;5;21;01mexcel_maker\u001b[39;00m \u001b[38;5;28;01mimport\u001b[39;00m Support\n",
      "File \u001b[1;32mD:\\Python Projects\\doctors_payout\\Scripts\\doctors_payout\\payout_app\\excel_maker.py:12\u001b[0m\n\u001b[0;32m     10\u001b[0m \u001b[38;5;28;01mfrom\u001b[39;00m \u001b[38;5;21;01mdatetime\u001b[39;00m \u001b[38;5;28;01mimport\u001b[39;00m datetime\n\u001b[0;32m     11\u001b[0m \u001b[38;5;28;01mfrom\u001b[39;00m \u001b[38;5;21;01mftplib\u001b[39;00m \u001b[38;5;28;01mimport\u001b[39;00m FTP\n\u001b[1;32m---> 12\u001b[0m \u001b[38;5;28;01mfrom\u001b[39;00m \u001b[38;5;21;01mpayout_app\u001b[39;00m\u001b[38;5;21;01m.\u001b[39;00m\u001b[38;5;21;01memail_sender\u001b[39;00m \u001b[38;5;28;01mimport\u001b[39;00m Email_Sender\n\u001b[0;32m     13\u001b[0m \u001b[38;5;28;01mfrom\u001b[39;00m \u001b[38;5;21;01mpayout_app\u001b[39;00m\u001b[38;5;21;01m.\u001b[39;00m\u001b[38;5;21;01mmodels\u001b[39;00m \u001b[38;5;28;01mimport\u001b[39;00m Query\n\u001b[0;32m     15\u001b[0m \u001b[38;5;28;01mtry\u001b[39;00m:\n",
      "\u001b[1;31mModuleNotFoundError\u001b[0m: No module named 'payout_app'"
     ]
    }
   ],
   "source": [
    "from excel_maker import Support"
   ]
  },
  {
   "cell_type": "code",
   "execution_count": null,
   "id": "884d94ec",
   "metadata": {},
   "outputs": [],
   "source": [
    "sup = Support()"
   ]
  },
  {
   "cell_type": "code",
   "execution_count": 7,
   "id": "0d74cfc1",
   "metadata": {},
   "outputs": [],
   "source": [
    "postDB = PostgressDB()"
   ]
  },
  {
   "cell_type": "code",
   "execution_count": 8,
   "id": "7b1ca0db",
   "metadata": {},
   "outputs": [],
   "source": [
    "df_dp_ip_kh = pd.read_excel(r\"resources\\ip_payout.xlsx\")"
   ]
  },
  {
   "cell_type": "code",
   "execution_count": 9,
   "id": "5a3d9d35",
   "metadata": {},
   "outputs": [],
   "source": [
    "df_dp_ip_kh = sup.add_new_column(\n",
    "            df_dp_ip_kh, \"SOURCE OF DATA\", \"IP Admitting Doc wise rev rep\"\n",
    "        )"
   ]
  },
  {
   "cell_type": "code",
   "execution_count": 10,
   "id": "58336c65",
   "metadata": {},
   "outputs": [],
   "source": [
    " df_dp_op_kh = pd.read_excel(r\"resources\\op_payout.xlsx\")"
   ]
  },
  {
   "cell_type": "code",
   "execution_count": 11,
   "id": "2c9c4a4f",
   "metadata": {},
   "outputs": [],
   "source": [
    "df_dp_op_kh = sup.add_new_column(\n",
    "            df_dp_op_kh, \"SOURCE OF DATA\", \"Op Rev share for Ext Doc Rep\"\n",
    "        )"
   ]
  },
  {
   "cell_type": "code",
   "execution_count": 12,
   "id": "c7d315c1",
   "metadata": {},
   "outputs": [],
   "source": [
    "main_dataframe = sup.concat_dataframes(df_dp_ip_kh, df_dp_op_kh)"
   ]
  },
  {
   "cell_type": "code",
   "execution_count": 13,
   "id": "aec86a71",
   "metadata": {},
   "outputs": [],
   "source": [
    "df_dp_ip_kh = sup.delete_dataframe(df_dp_ip_kh)"
   ]
  },
  {
   "cell_type": "code",
   "execution_count": 14,
   "id": "bb2a7a32",
   "metadata": {},
   "outputs": [],
   "source": [
    "df_dp_op_kh = sup.delete_dataframe(df_dp_op_kh)"
   ]
  },
  {
   "cell_type": "code",
   "execution_count": 15,
   "id": "e31817e3",
   "metadata": {},
   "outputs": [],
   "source": [
    "doctors_list_data, doctors_list_column = postDB.applicable_doctors()"
   ]
  },
  {
   "cell_type": "code",
   "execution_count": 16,
   "id": "1a162f39",
   "metadata": {},
   "outputs": [],
   "source": [
    "doctors_list_df = pd.DataFrame(\n",
    "            data=doctors_list_data, columns=list(doctors_list_column)\n",
    "        )"
   ]
  },
  {
   "cell_type": "code",
   "execution_count": 17,
   "id": "4f5dc746",
   "metadata": {},
   "outputs": [],
   "source": [
    "main_dataframe = main_dataframe[\n",
    "            main_dataframe[\"DOCTOR_NAME\"]\n",
    "            .apply(str.upper)\n",
    "            .isin(doctors_list_df[\"doctors_name\"].apply(str.upper))\n",
    "        ]"
   ]
  },
  {
   "cell_type": "code",
   "execution_count": 18,
   "id": "59eb81ad",
   "metadata": {},
   "outputs": [],
   "source": [
    "df_dp_rh = pd.read_excel(r\"viren_ref\\RH_Data.xlsx\")"
   ]
  },
  {
   "cell_type": "code",
   "execution_count": 19,
   "id": "4e236cb2",
   "metadata": {},
   "outputs": [],
   "source": [
    "df_dp_rh = sup.add_new_column(\n",
    "            df_dp_rh, \"SOURCE OF DATA\", \"RH DATA IP Admitting Doc wise rev rep\")"
   ]
  },
  {
   "cell_type": "code",
   "execution_count": 20,
   "id": "a926b88f",
   "metadata": {},
   "outputs": [],
   "source": [
    "df_dp_rh = sup.rename_columns(\n",
    "            df_dp_rh,\n",
    "            {\n",
    "                \"BILLING_CLASS\": \"PATIENT_TYPE\",\n",
    "                \"GROSS_AMT\": \"GROSS_AMOUNT\",\n",
    "                \"NET_AMT\": \"NET_AMOUNT\",\n",
    "            },\n",
    "        )"
   ]
  },
  {
   "cell_type": "code",
   "execution_count": 21,
   "id": "d3f7a469",
   "metadata": {},
   "outputs": [],
   "source": [
    "df_dp_rh = sup.delete_columns(df_dp_rh, [\"SERVICE_GROUP\"])"
   ]
  },
  {
   "cell_type": "code",
   "execution_count": 22,
   "id": "9e883902",
   "metadata": {},
   "outputs": [],
   "source": [
    "df_dp_rh = sup.rh_working(df_dp_rh,main_dataframe)"
   ]
  },
  {
   "cell_type": "code",
   "execution_count": 23,
   "id": "3125f906",
   "metadata": {},
   "outputs": [],
   "source": [
    "main_dataframe = sup.concat_dataframes(main_dataframe, df_dp_rh)"
   ]
  },
  {
   "cell_type": "code",
   "execution_count": 24,
   "id": "75dba729",
   "metadata": {},
   "outputs": [],
   "source": [
    "df_dp_rh = sup.delete_dataframe(df_dp_rh)"
   ]
  },
  {
   "cell_type": "code",
   "execution_count": 25,
   "id": "a101423a",
   "metadata": {},
   "outputs": [],
   "source": [
    "doctors_list_df = sup.rename_columns(\n",
    "            doctors_list_df,\n",
    "            {\"doctors_name\": \"DOCTOR_NAME\", \"doctors_group\": \"DOCTORS_GROUP\"},\n",
    "        )"
   ]
  },
  {
   "cell_type": "code",
   "execution_count": 26,
   "id": "936ea877",
   "metadata": {},
   "outputs": [],
   "source": [
    "doctors_list_df = doctors_list_df[[\"DOCTOR_NAME\", \"DOCTORS_GROUP\"]]"
   ]
  },
  {
   "cell_type": "code",
   "execution_count": 27,
   "id": "d596b43e",
   "metadata": {},
   "outputs": [],
   "source": [
    "main_dataframe = pd.merge(\n",
    "            main_dataframe,\n",
    "            doctors_list_df[[\"DOCTOR_NAME\", \"DOCTORS_GROUP\"]],\n",
    "            on=\"DOCTOR_NAME\",\n",
    "            how=\"left\",\n",
    "        )"
   ]
  },
  {
   "cell_type": "code",
   "execution_count": 28,
   "id": "d7e77689",
   "metadata": {},
   "outputs": [],
   "source": [
    "main_dataframe[\"REFERENCE_GROUP\"] = main_dataframe.apply(lambda row: sup.CINP_OR_CNOP_ANE(row[\"SERVICE_CODE\"]), axis=1)"
   ]
  },
  {
   "cell_type": "code",
   "execution_count": 29,
   "id": "6986ced7",
   "metadata": {},
   "outputs": [],
   "source": [
    "transplant_dataframe = pd.read_excel(r'viren_ref\\transplant.xlsx')"
   ]
  },
  {
   "cell_type": "code",
   "execution_count": 30,
   "id": "1655eb09",
   "metadata": {},
   "outputs": [],
   "source": [
    "transplant_dataframe =transplant_dataframe.dropna()"
   ]
  },
  {
   "cell_type": "code",
   "execution_count": 31,
   "id": "be78da89",
   "metadata": {},
   "outputs": [],
   "source": [
    "transp_df_uhid= list(transplant_dataframe['UHID']) + list(transplant_dataframe['UHID.1'])"
   ]
  },
  {
   "cell_type": "code",
   "execution_count": 32,
   "id": "e1f4ddcb",
   "metadata": {},
   "outputs": [],
   "source": [
    "postDB = PostgressDB()"
   ]
  },
  {
   "cell_type": "code",
   "execution_count": 33,
   "id": "ca17b83b",
   "metadata": {},
   "outputs": [],
   "source": [
    "transplant_doctor_data, column_name = postDB.transplant_doctors('HPB and Liver Transplant')"
   ]
  },
  {
   "cell_type": "code",
   "execution_count": 34,
   "id": "dfd2e08f",
   "metadata": {},
   "outputs": [],
   "source": [
    "transp_df = pd.DataFrame(\n",
    "            data=transplant_doctor_data,\n",
    "            columns=list(column_name),\n",
    "        )"
   ]
  },
  {
   "cell_type": "code",
   "execution_count": 35,
   "id": "2b04cde2",
   "metadata": {},
   "outputs": [
    {
     "name": "stderr",
     "output_type": "stream",
     "text": [
      "D:\\Python Projects\\doctors_payout\\Scripts\\doctors_payout\\payout_app\\excel_maker.py:184: SettingWithCopyWarning: \n",
      "A value is trying to be set on a copy of a slice from a DataFrame.\n",
      "Try using .loc[row_indexer,col_indexer] = value instead\n",
      "\n",
      "See the caveats in the documentation: https://pandas.pydata.org/pandas-docs/stable/user_guide/indexing.html#returning-a-view-versus-a-copy\n",
      "  row[\"DOCTOR_NAME\"] = doc\n",
      "D:\\Python Projects\\doctors_payout\\Scripts\\doctors_payout\\payout_app\\excel_maker.py:190: SettingWithCopyWarning: \n",
      "A value is trying to be set on a copy of a slice from a DataFrame.\n",
      "Try using .loc[row_indexer,col_indexer] = value instead\n",
      "\n",
      "See the caveats in the documentation: https://pandas.pydata.org/pandas-docs/stable/user_guide/indexing.html#returning-a-view-versus-a-copy\n",
      "  row[\"DOCTOR_SHARE\"] = (\n",
      "D:\\Python Projects\\doctors_payout\\Scripts\\doctors_payout\\payout_app\\excel_maker.py:202: SettingWithCopyWarning: \n",
      "A value is trying to be set on a copy of a slice from a DataFrame.\n",
      "Try using .loc[row_indexer,col_indexer] = value instead\n",
      "\n",
      "See the caveats in the documentation: https://pandas.pydata.org/pandas-docs/stable/user_guide/indexing.html#returning-a-view-versus-a-copy\n",
      "  row[\"DOCTOR_NAME\"] = doc\n",
      "D:\\Python Projects\\doctors_payout\\Scripts\\doctors_payout\\payout_app\\excel_maker.py:208: SettingWithCopyWarning: \n",
      "A value is trying to be set on a copy of a slice from a DataFrame.\n",
      "Try using .loc[row_indexer,col_indexer] = value instead\n",
      "\n",
      "See the caveats in the documentation: https://pandas.pydata.org/pandas-docs/stable/user_guide/indexing.html#returning-a-view-versus-a-copy\n",
      "  row[\"DOCTOR_SHARE\"] = (\n"
     ]
    }
   ],
   "source": [
    "main_dataframe = sup.transplant_working(main_dataframe, transp_df,transp_df_uhid)"
   ]
  },
  {
   "cell_type": "code",
   "execution_count": 36,
   "id": "a3401df4",
   "metadata": {},
   "outputs": [],
   "source": [
    "postDB = PostgressDB()"
   ]
  },
  {
   "cell_type": "code",
   "execution_count": 37,
   "id": "ebe66a71",
   "metadata": {},
   "outputs": [],
   "source": [
    "transplant_doctor_data, column_name = postDB.transplant_doctors(\"UROLOGY\")"
   ]
  },
  {
   "cell_type": "code",
   "execution_count": 38,
   "id": "aa66ae82",
   "metadata": {},
   "outputs": [],
   "source": [
    "transp_df = pd.DataFrame(\n",
    "            data=transplant_doctor_data,\n",
    "            columns=list(column_name),\n",
    "        )"
   ]
  },
  {
   "cell_type": "code",
   "execution_count": 39,
   "id": "96840fe1",
   "metadata": {},
   "outputs": [
    {
     "name": "stderr",
     "output_type": "stream",
     "text": [
      "D:\\Python Projects\\doctors_payout\\Scripts\\doctors_payout\\payout_app\\excel_maker.py:202: SettingWithCopyWarning: \n",
      "A value is trying to be set on a copy of a slice from a DataFrame.\n",
      "Try using .loc[row_indexer,col_indexer] = value instead\n",
      "\n",
      "See the caveats in the documentation: https://pandas.pydata.org/pandas-docs/stable/user_guide/indexing.html#returning-a-view-versus-a-copy\n",
      "  row[\"DOCTOR_NAME\"] = doc\n",
      "D:\\Python Projects\\doctors_payout\\Scripts\\doctors_payout\\payout_app\\excel_maker.py:208: SettingWithCopyWarning: \n",
      "A value is trying to be set on a copy of a slice from a DataFrame.\n",
      "Try using .loc[row_indexer,col_indexer] = value instead\n",
      "\n",
      "See the caveats in the documentation: https://pandas.pydata.org/pandas-docs/stable/user_guide/indexing.html#returning-a-view-versus-a-copy\n",
      "  row[\"DOCTOR_SHARE\"] = (\n"
     ]
    }
   ],
   "source": [
    "main_dataframe = sup.transplant_working(\n",
    "            main_dataframe, transp_df, transp_df_uhid\n",
    "        )"
   ]
  },
  {
   "cell_type": "code",
   "execution_count": 40,
   "id": "8e12c67c",
   "metadata": {},
   "outputs": [],
   "source": [
    "transp_df = sup.delete_dataframe(transp_df)"
   ]
  },
  {
   "cell_type": "code",
   "execution_count": 41,
   "id": "3bcce5ba",
   "metadata": {},
   "outputs": [],
   "source": [
    "transplant_dataframe = sup.delete_dataframe(transplant_dataframe)"
   ]
  },
  {
   "cell_type": "code",
   "execution_count": 42,
   "id": "18f70504",
   "metadata": {},
   "outputs": [],
   "source": [
    "# Calculations for Cardiac\n",
    "postDB = PostgressDB()\n",
    "transplant_doctor_data, column_name = postDB.transplant_doctors(\"CARDIOLOGY\")\n",
    "# sup.excel_generator(excel_data=main_dataframe, page_name=\"test\")\n",
    "transp_df = pd.DataFrame(\n",
    "    data=transplant_doctor_data,\n",
    "    columns=list(column_name),\n",
    " )\n",
    "\n",
    "main_dataframe = sup.transplant_working(\n",
    "    main_dataframe, transp_df, transp_df_uhid\n",
    ")\n",
    "transp_df = sup.delete_dataframe(transp_df)\n",
    "transplant_dataframe = sup.delete_dataframe(transplant_dataframe)"
   ]
  },
  {
   "cell_type": "code",
   "execution_count": 43,
   "id": "dad992d9",
   "metadata": {},
   "outputs": [],
   "source": [
    "main_dataframe = sup.srs_distribution(main_dataframe)"
   ]
  },
  {
   "cell_type": "code",
   "execution_count": 44,
   "id": "6a50d7d2",
   "metadata": {},
   "outputs": [],
   "source": [
    "main_dataframe = sup.check_peadiatric(main_dataframe)"
   ]
  },
  {
   "cell_type": "code",
   "execution_count": 45,
   "id": "5584538b",
   "metadata": {},
   "outputs": [],
   "source": [
    "main_dataframe = sup.ehc_patient_working(main_dataframe,doctors_list_df)"
   ]
  },
  {
   "cell_type": "code",
   "execution_count": 46,
   "id": "758de6de",
   "metadata": {},
   "outputs": [],
   "source": [
    "doctors_list_df = sup.delete_dataframe(doctors_list_df)"
   ]
  },
  {
   "cell_type": "code",
   "execution_count": 47,
   "id": "986d7435",
   "metadata": {},
   "outputs": [
    {
     "name": "stderr",
     "output_type": "stream",
     "text": [
      "D:\\Python Projects\\doctors_payout\\Scripts\\doctors_payout\\payout_app\\excel_maker.py:366: RuntimeWarning: invalid value encountered in cast\n",
      "  main_dataframe[\"DOCTOR_SHARE\"].values.astype(int) > 1, \"REV_STREAM\"\n"
     ]
    }
   ],
   "source": [
    "main_dataframe = sup.rev_coloumn_data(main_dataframe)"
   ]
  },
  {
   "cell_type": "code",
   "execution_count": 48,
   "id": "ba11e12c",
   "metadata": {},
   "outputs": [],
   "source": [
    "main_dataframe = sup.plastic_cosmetic_gst(main_dataframe)"
   ]
  },
  {
   "cell_type": "code",
   "execution_count": 49,
   "id": "afc52302",
   "metadata": {},
   "outputs": [],
   "source": [
    "main_dataframe = sup.negative_to_postive_entry_check(main_dataframe)"
   ]
  },
  {
   "cell_type": "code",
   "execution_count": 50,
   "id": "d1fc3cc9",
   "metadata": {},
   "outputs": [
    {
     "data": {
      "text/plain": [
       "'D:\\\\Python Projects\\\\doctors_payout\\\\Scripts\\\\doctors_payout/main_dataframe-18-May-2023-12-07-46-193539.xlsx'"
      ]
     },
     "execution_count": 50,
     "metadata": {},
     "output_type": "execute_result"
    }
   ],
   "source": [
    "sup.excel_generator(excel_data=main_dataframe, page_name=\"main_dataframe\")"
   ]
  },
  {
   "cell_type": "code",
   "execution_count": null,
   "id": "d856c296",
   "metadata": {},
   "outputs": [],
   "source": []
  }
 ],
 "metadata": {
  "kernelspec": {
   "display_name": "Python 3 (ipykernel)",
   "language": "python",
   "name": "python3"
  },
  "language_info": {
   "codemirror_mode": {
    "name": "ipython",
    "version": 3
   },
   "file_extension": ".py",
   "mimetype": "text/x-python",
   "name": "python",
   "nbconvert_exporter": "python",
   "pygments_lexer": "ipython3",
   "version": "3.10.10"
  }
 },
 "nbformat": 4,
 "nbformat_minor": 5
}
