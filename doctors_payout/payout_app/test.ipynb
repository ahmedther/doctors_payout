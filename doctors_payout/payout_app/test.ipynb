{
 "cells": [
  {
   "cell_type": "code",
   "execution_count": 1,
   "id": "ae7ba0b1",
   "metadata": {},
   "outputs": [],
   "source": [
    "import pandas as pd"
   ]
  },
  {
   "cell_type": "code",
   "execution_count": 2,
   "id": "d9db9f1d",
   "metadata": {},
   "outputs": [],
   "source": [
    "import datacompy"
   ]
  },
  {
   "cell_type": "code",
   "execution_count": 3,
   "id": "32d44f37",
   "metadata": {},
   "outputs": [],
   "source": [
    "from excel_maker import Support"
   ]
  },
  {
   "cell_type": "code",
   "execution_count": 4,
   "id": "5b850865",
   "metadata": {},
   "outputs": [],
   "source": [
    "from postgress_config import PostgressDB"
   ]
  },
  {
   "cell_type": "code",
   "execution_count": 5,
   "id": "422d3ad4",
   "metadata": {},
   "outputs": [],
   "source": [
    "import time"
   ]
  },
  {
   "cell_type": "code",
   "execution_count": 6,
   "id": "1316ead2",
   "metadata": {},
   "outputs": [],
   "source": [
    "from oracle_config import Ora"
   ]
  },
  {
   "cell_type": "code",
   "execution_count": 7,
   "id": "0393c474",
   "metadata": {},
   "outputs": [],
   "source": [
    "import numpy as np"
   ]
  },
  {
   "cell_type": "code",
   "execution_count": 8,
   "id": "05bbef46",
   "metadata": {},
   "outputs": [],
   "source": [
    "sup = Support()"
   ]
  },
  {
   "cell_type": "code",
   "execution_count": 9,
   "id": "d2c882a8",
   "metadata": {},
   "outputs": [],
   "source": [
    "main_dataframe = pd.read_excel(r'resources\\main_dataframe.xlsx')"
   ]
  },
  {
   "cell_type": "code",
   "execution_count": 10,
   "id": "21b0bb98",
   "metadata": {},
   "outputs": [],
   "source": [
    "#df = pd.read_excel(r'resources\\doc.xlsx')\n",
    "#d = datacompy.Compare(main_dataframe,df,join_columns='PATIENT_NAME')\n",
    "#sup.excel_generator(excel_data=d.df1_unq_rows, page_name=\"master\")"
   ]
  },
  {
   "cell_type": "code",
   "execution_count": 11,
   "id": "e2c32390",
   "metadata": {},
   "outputs": [],
   "source": [
    "#main_dataframe = sup.negative_to_postive_entry_check(main_dataframe)"
   ]
  },
  {
   "cell_type": "code",
   "execution_count": null,
   "id": "5ad25cb4",
   "metadata": {},
   "outputs": [],
   "source": []
  },
  {
   "cell_type": "code",
   "execution_count": 17,
   "id": "7cf2efa5",
   "metadata": {
    "scrolled": true
   },
   "outputs": [
    {
     "data": {
      "text/plain": [
       "'D:\\\\Python Projects\\\\doctors_payout\\\\Scripts\\\\doctors_payout/main_dataframe-12-May-2023-14-24-28-025260.xlsx'"
      ]
     },
     "execution_count": 17,
     "metadata": {},
     "output_type": "execute_result"
    }
   ],
   "source": [
    "sup.excel_generator(excel_data=main_dataframe, page_name=\"main_dataframe\")"
   ]
  },
  {
   "cell_type": "code",
   "execution_count": null,
   "id": "19cbb57e",
   "metadata": {},
   "outputs": [],
   "source": []
  }
 ],
 "metadata": {
  "kernelspec": {
   "display_name": "Python 3 (ipykernel)",
   "language": "python",
   "name": "python3"
  },
  "language_info": {
   "codemirror_mode": {
    "name": "ipython",
    "version": 3
   },
   "file_extension": ".py",
   "mimetype": "text/x-python",
   "name": "python",
   "nbconvert_exporter": "python",
   "pygments_lexer": "ipython3",
   "version": "3.10.10"
  }
 },
 "nbformat": 4,
 "nbformat_minor": 5
}
