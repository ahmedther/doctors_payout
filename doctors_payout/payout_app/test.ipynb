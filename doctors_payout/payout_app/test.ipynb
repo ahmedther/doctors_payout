{
 "cells": [
  {
   "cell_type": "code",
   "execution_count": 1,
   "id": "ae7ba0b1",
   "metadata": {},
   "outputs": [],
   "source": [
    "import pandas as pd"
   ]
  },
  {
   "cell_type": "code",
   "execution_count": 2,
   "id": "d9db9f1d",
   "metadata": {},
   "outputs": [],
   "source": [
    "import datacompy"
   ]
  },
  {
   "cell_type": "code",
   "execution_count": 3,
   "id": "32d44f37",
   "metadata": {},
   "outputs": [],
   "source": [
    "from excel_maker import Support"
   ]
  },
  {
   "cell_type": "code",
   "execution_count": 4,
   "id": "5b850865",
   "metadata": {},
   "outputs": [],
   "source": [
    "from postgress_config import PostgressDB"
   ]
  },
  {
   "cell_type": "code",
   "execution_count": 5,
   "id": "422d3ad4",
   "metadata": {},
   "outputs": [],
   "source": [
    "import time"
   ]
  },
  {
   "cell_type": "code",
   "execution_count": 6,
   "id": "1316ead2",
   "metadata": {},
   "outputs": [],
   "source": [
    "from oracle_config import Ora"
   ]
  },
  {
   "cell_type": "code",
   "execution_count": 7,
   "id": "0393c474",
   "metadata": {},
   "outputs": [],
   "source": [
    "import numpy as np"
   ]
  },
  {
   "cell_type": "code",
   "execution_count": 8,
   "id": "05bbef46",
   "metadata": {},
   "outputs": [],
   "source": [
    "sup = Support()"
   ]
  },
  {
   "cell_type": "code",
   "execution_count": 9,
   "id": "d2c882a8",
   "metadata": {},
   "outputs": [],
   "source": [
    "main_dataframe = pd.read_excel(r'resources\\main_dataframe.xlsx')"
   ]
  },
  {
   "cell_type": "code",
   "execution_count": 10,
   "id": "21b0bb98",
   "metadata": {},
   "outputs": [],
   "source": [
    "#df = pd.read_excel(r'resources\\doc.xlsx')\n",
    "#d = datacompy.Compare(main_dataframe,df,join_columns='PATIENT_NAME')\n",
    "#sup.excel_generator(excel_data=d.df1_unq_rows, page_name=\"master\")"
   ]
  },
  {
   "cell_type": "code",
   "execution_count": 11,
   "id": "4004835d",
   "metadata": {},
   "outputs": [],
   "source": [
    "#main_dataframe = sup.negative_to_postive_entry_check(main_dataframe)"
   ]
  },
  {
   "cell_type": "code",
   "execution_count": 12,
   "id": "28576af5",
   "metadata": {},
   "outputs": [],
   "source": [
    "main_dataframe = pd.read_excel(r'resources\\main_dataframe.xlsx')\n",
    "main_dataframe1 = main_dataframe.copy()"
   ]
  },
  {
   "cell_type": "code",
   "execution_count": 13,
   "id": "64032b8d",
   "metadata": {},
   "outputs": [],
   "source": [
    "def negative_to_postive_entry_check(dataframe):\n",
    "\n",
    "    negative_share_rows = dataframe[ dataframe['DOCTOR_SHARE'] < 0]\n",
    "\n",
    "    \n",
    "    for _, row in negative_share_rows.iterrows():\n",
    "        doctor_share = abs(row['DOCTOR_SHARE'])\n",
    "        doctor_name = row['DOCTOR_NAME']\n",
    "        episode_id = row['EPISODE_ID']\n",
    "        comments = str(dataframe.loc[row.name, \"COMMENTS\"])+ \"   ---   \" if str(dataframe.loc[row.name, \"COMMENTS\"]) != 'nan' else \"\"  # Convert float to string\n",
    "\n",
    "\n",
    "        matching_rows = dataframe[\n",
    "            (dataframe['DOCTOR_SHARE'] == doctor_share) &\n",
    "            (dataframe['DOCTOR_NAME'] == doctor_name) &\n",
    "            (dataframe['EPISODE_ID'] == episode_id )\n",
    "        ]\n",
    "        if not matching_rows.empty:\n",
    "            dataframe.loc[row.name, \"COMMENTS\"] = comments + \" Positive Entry Found\"\n",
    "        else:\n",
    "            dataframe.loc[row.name, \"COMMENTS\"] = comments + \" No!!! Positive Entry Found. Manual Check is Required\"\n",
    "\n",
    "\n",
    "   \n",
    "    return dataframe"
   ]
  },
  {
   "cell_type": "code",
   "execution_count": 14,
   "id": "694d2a8f",
   "metadata": {},
   "outputs": [
    {
     "ename": "ValueError",
     "evalue": "Can only compare identically-labeled Series objects",
     "output_type": "error",
     "traceback": [
      "\u001b[1;31m---------------------------------------------------------------------------\u001b[0m",
      "\u001b[1;31mValueError\u001b[0m                                Traceback (most recent call last)",
      "Cell \u001b[1;32mIn[14], line 1\u001b[0m\n\u001b[1;32m----> 1\u001b[0m main_dataframe1 \u001b[38;5;241m=\u001b[39m \u001b[43mnegative_to_postive_entry_check\u001b[49m\u001b[43m(\u001b[49m\u001b[43mmain_dataframe1\u001b[49m\u001b[43m)\u001b[49m\n",
      "Cell \u001b[1;32mIn[13], line 26\u001b[0m, in \u001b[0;36mnegative_to_postive_entry_check\u001b[1;34m(dataframe)\u001b[0m\n\u001b[0;32m     22\u001b[0m negative_share_rows \u001b[38;5;241m=\u001b[39m dataframe[dataframe[\u001b[38;5;124m\"\u001b[39m\u001b[38;5;124mDOCTOR_SHARE\u001b[39m\u001b[38;5;124m\"\u001b[39m] \u001b[38;5;241m<\u001b[39m \u001b[38;5;241m0\u001b[39m]\n\u001b[0;32m     24\u001b[0m \u001b[38;5;66;03m# Create a mask for rows where positive entries are found\u001b[39;00m\n\u001b[0;32m     25\u001b[0m positive_mask \u001b[38;5;241m=\u001b[39m (\n\u001b[1;32m---> 26\u001b[0m                 (\u001b[43mdataframe\u001b[49m\u001b[43m[\u001b[49m\u001b[38;5;124;43m\"\u001b[39;49m\u001b[38;5;124;43mDOCTOR_SHARE\u001b[39;49m\u001b[38;5;124;43m\"\u001b[39;49m\u001b[43m]\u001b[49m\u001b[38;5;241;43m.\u001b[39;49m\u001b[43mabs\u001b[49m\u001b[43m(\u001b[49m\u001b[43m)\u001b[49m\u001b[43m \u001b[49m\u001b[38;5;241;43m==\u001b[39;49m\u001b[43m \u001b[49m\u001b[43mnegative_share_rows\u001b[49m\u001b[43m[\u001b[49m\u001b[38;5;124;43m\"\u001b[39;49m\u001b[38;5;124;43mDOCTOR_SHARE\u001b[39;49m\u001b[38;5;124;43m\"\u001b[39;49m\u001b[43m]\u001b[49m\u001b[38;5;241;43m.\u001b[39;49m\u001b[43mabs\u001b[49m\u001b[43m(\u001b[49m\u001b[43m)\u001b[49m)\n\u001b[0;32m     27\u001b[0m                 \u001b[38;5;241m&\u001b[39m (dataframe[\u001b[38;5;124m\"\u001b[39m\u001b[38;5;124mDOCTOR_NAME\u001b[39m\u001b[38;5;124m\"\u001b[39m] \u001b[38;5;241m==\u001b[39m negative_share_rows[\u001b[38;5;124m\"\u001b[39m\u001b[38;5;124mDOCTOR_NAME\u001b[39m\u001b[38;5;124m\"\u001b[39m])\n\u001b[0;32m     28\u001b[0m                 \u001b[38;5;241m&\u001b[39m (dataframe[\u001b[38;5;124m\"\u001b[39m\u001b[38;5;124mEPISODE_ID\u001b[39m\u001b[38;5;124m\"\u001b[39m] \u001b[38;5;241m==\u001b[39m negative_share_rows[\u001b[38;5;124m\"\u001b[39m\u001b[38;5;124mEPISODE_ID\u001b[39m\u001b[38;5;124m\"\u001b[39m])\n\u001b[0;32m     29\u001b[0m             )\n\u001b[0;32m     31\u001b[0m \u001b[38;5;66;03m# Update COMMENTS column based on the mask\u001b[39;00m\n\u001b[0;32m     32\u001b[0m dataframe\u001b[38;5;241m.\u001b[39mloc[negative_share_rows\u001b[38;5;241m.\u001b[39mindex, \u001b[38;5;124m\"\u001b[39m\u001b[38;5;124mCOMMENTS\u001b[39m\u001b[38;5;124m\"\u001b[39m] \u001b[38;5;241m=\u001b[39m (\n\u001b[0;32m     33\u001b[0m     negative_share_rows[\u001b[38;5;124m\"\u001b[39m\u001b[38;5;124mCOMMENTS\u001b[39m\u001b[38;5;124m\"\u001b[39m]\u001b[38;5;241m.\u001b[39mfillna(\u001b[38;5;124m\"\u001b[39m\u001b[38;5;124m\"\u001b[39m) \u001b[38;5;241m+\u001b[39m \u001b[38;5;124m\"\u001b[39m\u001b[38;5;124m   ---   \u001b[39m\u001b[38;5;124m\"\u001b[39m \u001b[38;5;241m+\u001b[39m\n\u001b[0;32m     34\u001b[0m     positive_mask\u001b[38;5;241m.\u001b[39mmap({\u001b[38;5;28;01mTrue\u001b[39;00m: \u001b[38;5;124m\"\u001b[39m\u001b[38;5;124mPositive Entry Found\u001b[39m\u001b[38;5;124m\"\u001b[39m, \u001b[38;5;28;01mFalse\u001b[39;00m: \u001b[38;5;124m\"\u001b[39m\u001b[38;5;124mNo!!! Positive Entry Found. Manual Check is Required\u001b[39m\u001b[38;5;124m\"\u001b[39m})\n\u001b[0;32m     35\u001b[0m )\n",
      "File \u001b[1;32mD:\\Python Projects\\doctors_payout\\lib\\site-packages\\pandas\\core\\ops\\common.py:72\u001b[0m, in \u001b[0;36m_unpack_zerodim_and_defer.<locals>.new_method\u001b[1;34m(self, other)\u001b[0m\n\u001b[0;32m     68\u001b[0m             \u001b[38;5;28;01mreturn\u001b[39;00m \u001b[38;5;28mNotImplemented\u001b[39m\n\u001b[0;32m     70\u001b[0m other \u001b[38;5;241m=\u001b[39m item_from_zerodim(other)\n\u001b[1;32m---> 72\u001b[0m \u001b[38;5;28;01mreturn\u001b[39;00m \u001b[43mmethod\u001b[49m\u001b[43m(\u001b[49m\u001b[38;5;28;43mself\u001b[39;49m\u001b[43m,\u001b[49m\u001b[43m \u001b[49m\u001b[43mother\u001b[49m\u001b[43m)\u001b[49m\n",
      "File \u001b[1;32mD:\\Python Projects\\doctors_payout\\lib\\site-packages\\pandas\\core\\arraylike.py:42\u001b[0m, in \u001b[0;36mOpsMixin.__eq__\u001b[1;34m(self, other)\u001b[0m\n\u001b[0;32m     40\u001b[0m \u001b[38;5;129m@unpack_zerodim_and_defer\u001b[39m(\u001b[38;5;124m\"\u001b[39m\u001b[38;5;124m__eq__\u001b[39m\u001b[38;5;124m\"\u001b[39m)\n\u001b[0;32m     41\u001b[0m \u001b[38;5;28;01mdef\u001b[39;00m \u001b[38;5;21m__eq__\u001b[39m(\u001b[38;5;28mself\u001b[39m, other):\n\u001b[1;32m---> 42\u001b[0m     \u001b[38;5;28;01mreturn\u001b[39;00m \u001b[38;5;28;43mself\u001b[39;49m\u001b[38;5;241;43m.\u001b[39;49m\u001b[43m_cmp_method\u001b[49m\u001b[43m(\u001b[49m\u001b[43mother\u001b[49m\u001b[43m,\u001b[49m\u001b[43m \u001b[49m\u001b[43moperator\u001b[49m\u001b[38;5;241;43m.\u001b[39;49m\u001b[43meq\u001b[49m\u001b[43m)\u001b[49m\n",
      "File \u001b[1;32mD:\\Python Projects\\doctors_payout\\lib\\site-packages\\pandas\\core\\series.py:6237\u001b[0m, in \u001b[0;36mSeries._cmp_method\u001b[1;34m(self, other, op)\u001b[0m\n\u001b[0;32m   6234\u001b[0m res_name \u001b[38;5;241m=\u001b[39m ops\u001b[38;5;241m.\u001b[39mget_op_result_name(\u001b[38;5;28mself\u001b[39m, other)\n\u001b[0;32m   6236\u001b[0m \u001b[38;5;28;01mif\u001b[39;00m \u001b[38;5;28misinstance\u001b[39m(other, Series) \u001b[38;5;129;01mand\u001b[39;00m \u001b[38;5;129;01mnot\u001b[39;00m \u001b[38;5;28mself\u001b[39m\u001b[38;5;241m.\u001b[39m_indexed_same(other):\n\u001b[1;32m-> 6237\u001b[0m     \u001b[38;5;28;01mraise\u001b[39;00m \u001b[38;5;167;01mValueError\u001b[39;00m(\u001b[38;5;124m\"\u001b[39m\u001b[38;5;124mCan only compare identically-labeled Series objects\u001b[39m\u001b[38;5;124m\"\u001b[39m)\n\u001b[0;32m   6239\u001b[0m lvalues \u001b[38;5;241m=\u001b[39m \u001b[38;5;28mself\u001b[39m\u001b[38;5;241m.\u001b[39m_values\n\u001b[0;32m   6240\u001b[0m rvalues \u001b[38;5;241m=\u001b[39m extract_array(other, extract_numpy\u001b[38;5;241m=\u001b[39m\u001b[38;5;28;01mTrue\u001b[39;00m, extract_range\u001b[38;5;241m=\u001b[39m\u001b[38;5;28;01mTrue\u001b[39;00m)\n",
      "\u001b[1;31mValueError\u001b[0m: Can only compare identically-labeled Series objects"
     ]
    }
   ],
   "source": [
    "main_dataframe1 = negative_to_postive_entry_check(main_dataframe1)"
   ]
  },
  {
   "cell_type": "code",
   "execution_count": null,
   "id": "5ad25cb4",
   "metadata": {
    "scrolled": true
   },
   "outputs": [],
   "source": []
  },
  {
   "cell_type": "code",
   "execution_count": null,
   "id": "7cf2efa5",
   "metadata": {
    "scrolled": true
   },
   "outputs": [],
   "source": [
    "sup.excel_generator(excel_data=main_dataframe1, page_name=\"main_dataframe1\")"
   ]
  },
  {
   "cell_type": "code",
   "execution_count": null,
   "id": "19cbb57e",
   "metadata": {},
   "outputs": [],
   "source": []
  },
  {
   "cell_type": "code",
   "execution_count": null,
   "id": "f53a6614",
   "metadata": {},
   "outputs": [],
   "source": []
  },
  {
   "cell_type": "code",
   "execution_count": null,
   "id": "e47f9f12",
   "metadata": {},
   "outputs": [],
   "source": []
  }
 ],
 "metadata": {
  "kernelspec": {
   "display_name": "Python 3 (ipykernel)",
   "language": "python",
   "name": "python3"
  },
  "language_info": {
   "codemirror_mode": {
    "name": "ipython",
    "version": 3
   },
   "file_extension": ".py",
   "mimetype": "text/x-python",
   "name": "python",
   "nbconvert_exporter": "python",
   "pygments_lexer": "ipython3",
   "version": "3.10.10"
  }
 },
 "nbformat": 4,
 "nbformat_minor": 5
}
