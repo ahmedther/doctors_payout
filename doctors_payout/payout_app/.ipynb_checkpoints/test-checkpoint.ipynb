{
 "cells": [
  {
   "cell_type": "code",
   "execution_count": 1,
   "id": "ae7ba0b1",
   "metadata": {},
   "outputs": [],
   "source": [
    "import pandas as pd"
   ]
  },
  {
   "cell_type": "code",
   "execution_count": 2,
   "id": "d9db9f1d",
   "metadata": {},
   "outputs": [],
   "source": [
    "import datacompy"
   ]
  },
  {
   "cell_type": "code",
   "execution_count": 3,
   "id": "32d44f37",
   "metadata": {},
   "outputs": [],
   "source": [
    "from excel_maker import Support"
   ]
  },
  {
   "cell_type": "code",
   "execution_count": 4,
   "id": "5b850865",
   "metadata": {},
   "outputs": [],
   "source": [
    "from postgress_config import PostgressDB"
   ]
  },
  {
   "cell_type": "code",
   "execution_count": 5,
   "id": "05bbef46",
   "metadata": {},
   "outputs": [],
   "source": [
    "sup = Support()"
   ]
  },
  {
   "cell_type": "code",
   "execution_count": 6,
   "id": "d2c882a8",
   "metadata": {},
   "outputs": [],
   "source": [
    "main_dataframe = pd.read_excel(r'resources\\main_dataframe.xlsx')"
   ]
  },
  {
   "cell_type": "code",
   "execution_count": 7,
   "id": "21b0bb98",
   "metadata": {},
   "outputs": [],
   "source": [
    "#df = pd.read_excel(r'resources\\doc.xlsx')\n",
    "#d = datacompy.Compare(main_dataframe,df,join_columns='PATIENT_NAME')\n",
    "#sup.excel_generator(excel_data=d.df1_unq_rows, page_name=\"master\")"
   ]
  },
  {
   "cell_type": "code",
   "execution_count": 8,
   "id": "a04e9e27",
   "metadata": {},
   "outputs": [],
   "source": [
    "main_dataframe = sup.check_peadiatric(main_dataframe)"
   ]
  },
  {
   "cell_type": "code",
   "execution_count": 9,
   "id": "102044dc",
   "metadata": {
    "scrolled": true
   },
   "outputs": [
    {
     "data": {
      "text/html": [
       "<div>\n",
       "<style scoped>\n",
       "    .dataframe tbody tr th:only-of-type {\n",
       "        vertical-align: middle;\n",
       "    }\n",
       "\n",
       "    .dataframe tbody tr th {\n",
       "        vertical-align: top;\n",
       "    }\n",
       "\n",
       "    .dataframe thead th {\n",
       "        text-align: right;\n",
       "    }\n",
       "</style>\n",
       "<table border=\"1\" class=\"dataframe\">\n",
       "  <thead>\n",
       "    <tr style=\"text-align: right;\">\n",
       "      <th></th>\n",
       "      <th>SERVICE_DATE</th>\n",
       "      <th>PATIENT_ID</th>\n",
       "      <th>EPISODE_ID</th>\n",
       "      <th>PATIENT_NAME</th>\n",
       "      <th>SERVICE_CODE</th>\n",
       "      <th>SERVICE_DESC</th>\n",
       "      <th>PATIENT_TYPE</th>\n",
       "      <th>GROSS_AMOUNT</th>\n",
       "      <th>NET_AMOUNT</th>\n",
       "      <th>DOCTOR_SHARE</th>\n",
       "      <th>DOCTOR_NAME</th>\n",
       "      <th>PHYSICIAN_ID</th>\n",
       "      <th>SOURCE OF DATA</th>\n",
       "      <th>DOCTORS_GROUP</th>\n",
       "      <th>REFERENCE_GROUP</th>\n",
       "    </tr>\n",
       "  </thead>\n",
       "  <tbody>\n",
       "    <tr>\n",
       "      <th>0</th>\n",
       "      <td>04/08/2022</td>\n",
       "      <td>KH1000332735</td>\n",
       "      <td>13966092</td>\n",
       "      <td>Mrs. Aafreen Saifulla Rangooni</td>\n",
       "      <td>PRSN000040</td>\n",
       "      <td>Paediatrican Fe</td>\n",
       "      <td>Twin</td>\n",
       "      <td>3725.0</td>\n",
       "      <td>3725.0</td>\n",
       "      <td>3725.0</td>\n",
       "      <td>Dr.PREETHA JOSHI</td>\n",
       "      <td>41006199</td>\n",
       "      <td>IP Admitting Doc wise rev rep</td>\n",
       "      <td>D</td>\n",
       "      <td>Procedure</td>\n",
       "    </tr>\n",
       "    <tr>\n",
       "      <th>1</th>\n",
       "      <td>08/08/2022</td>\n",
       "      <td>KH1000808589</td>\n",
       "      <td>13970832</td>\n",
       "      <td>Mrs. Nilima  P</td>\n",
       "      <td>PRSN000040</td>\n",
       "      <td>Paediatrican Fe</td>\n",
       "      <td>Twin</td>\n",
       "      <td>3725.0</td>\n",
       "      <td>3725.0</td>\n",
       "      <td>3725.0</td>\n",
       "      <td>Dr.SANTANU SEN</td>\n",
       "      <td>41007329</td>\n",
       "      <td>IP Admitting Doc wise rev rep</td>\n",
       "      <td>D</td>\n",
       "      <td>Procedure</td>\n",
       "    </tr>\n",
       "    <tr>\n",
       "      <th>2</th>\n",
       "      <td>13/08/2022</td>\n",
       "      <td>KH1000818767</td>\n",
       "      <td>13975701</td>\n",
       "      <td>Mrs. Uzma  Sayid</td>\n",
       "      <td>PRSN000040</td>\n",
       "      <td>Paediatrican Fe</td>\n",
       "      <td>Twin</td>\n",
       "      <td>3725.0</td>\n",
       "      <td>3725.0</td>\n",
       "      <td>3725.0</td>\n",
       "      <td>Dr.TANU SINGHAL</td>\n",
       "      <td>41006201</td>\n",
       "      <td>IP Admitting Doc wise rev rep</td>\n",
       "      <td>D</td>\n",
       "      <td>Procedure</td>\n",
       "    </tr>\n",
       "  </tbody>\n",
       "</table>\n",
       "</div>"
      ],
      "text/plain": [
       "  SERVICE_DATE    PATIENT_ID  EPISODE_ID                    PATIENT_NAME  \\\n",
       "0   04/08/2022  KH1000332735    13966092  Mrs. Aafreen Saifulla Rangooni   \n",
       "1   08/08/2022  KH1000808589    13970832                  Mrs. Nilima  P   \n",
       "2   13/08/2022  KH1000818767    13975701                Mrs. Uzma  Sayid   \n",
       "\n",
       "  SERVICE_CODE     SERVICE_DESC PATIENT_TYPE  GROSS_AMOUNT  NET_AMOUNT  \\\n",
       "0   PRSN000040  Paediatrican Fe         Twin        3725.0      3725.0   \n",
       "1   PRSN000040  Paediatrican Fe         Twin        3725.0      3725.0   \n",
       "2   PRSN000040  Paediatrican Fe         Twin        3725.0      3725.0   \n",
       "\n",
       "  DOCTOR_SHARE       DOCTOR_NAME PHYSICIAN_ID                 SOURCE OF DATA  \\\n",
       "0       3725.0  Dr.PREETHA JOSHI     41006199  IP Admitting Doc wise rev rep   \n",
       "1       3725.0    Dr.SANTANU SEN     41007329  IP Admitting Doc wise rev rep   \n",
       "2       3725.0   Dr.TANU SINGHAL     41006201  IP Admitting Doc wise rev rep   \n",
       "\n",
       "  DOCTORS_GROUP REFERENCE_GROUP  \n",
       "0             D       Procedure  \n",
       "1             D       Procedure  \n",
       "2             D       Procedure  "
      ]
     },
     "execution_count": 9,
     "metadata": {},
     "output_type": "execute_result"
    }
   ],
   "source": [
    "main_dataframe"
   ]
  },
  {
   "cell_type": "code",
   "execution_count": null,
   "id": "a2b73043",
   "metadata": {},
   "outputs": [],
   "source": []
  },
  {
   "cell_type": "code",
   "execution_count": 10,
   "id": "af073425",
   "metadata": {},
   "outputs": [],
   "source": [
    "sup.excel_generator(excel_data=main_dataframe, page_name=\"main_dataframe\")"
   ]
  }
 ],
 "metadata": {
  "kernelspec": {
   "display_name": "Python 3 (ipykernel)",
   "language": "python",
   "name": "python3"
  },
  "language_info": {
   "codemirror_mode": {
    "name": "ipython",
    "version": 3
   },
   "file_extension": ".py",
   "mimetype": "text/x-python",
   "name": "python",
   "nbconvert_exporter": "python",
   "pygments_lexer": "ipython3",
   "version": "3.10.4"
  }
 },
 "nbformat": 4,
 "nbformat_minor": 5
}
