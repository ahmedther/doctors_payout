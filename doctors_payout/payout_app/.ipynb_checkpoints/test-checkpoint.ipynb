{
 "cells": [
  {
   "cell_type": "code",
   "execution_count": 1,
   "id": "ae7ba0b1",
   "metadata": {},
   "outputs": [],
   "source": [
    "import pandas as pd"
   ]
  },
  {
   "cell_type": "code",
   "execution_count": 2,
   "id": "d9db9f1d",
   "metadata": {},
   "outputs": [],
   "source": [
    "import datacompy"
   ]
  },
  {
   "cell_type": "code",
   "execution_count": 3,
   "id": "32d44f37",
   "metadata": {},
   "outputs": [
    {
     "ename": "ModuleNotFoundError",
     "evalue": "No module named 'payout_app'",
     "output_type": "error",
     "traceback": [
      "\u001b[1;31m---------------------------------------------------------------------------\u001b[0m",
      "\u001b[1;31mModuleNotFoundError\u001b[0m                       Traceback (most recent call last)",
      "Cell \u001b[1;32mIn[3], line 1\u001b[0m\n\u001b[1;32m----> 1\u001b[0m \u001b[38;5;28;01mfrom\u001b[39;00m \u001b[38;5;21;01mexcel_maker\u001b[39;00m \u001b[38;5;28;01mimport\u001b[39;00m Support\n",
      "File \u001b[1;32mD:\\Python Projects\\doctors_payout\\Scripts\\doctors_payout\\payout_app\\excel_maker.py:12\u001b[0m\n\u001b[0;32m     10\u001b[0m \u001b[38;5;28;01mfrom\u001b[39;00m \u001b[38;5;21;01mdatetime\u001b[39;00m \u001b[38;5;28;01mimport\u001b[39;00m datetime\n\u001b[0;32m     11\u001b[0m \u001b[38;5;28;01mfrom\u001b[39;00m \u001b[38;5;21;01mftplib\u001b[39;00m \u001b[38;5;28;01mimport\u001b[39;00m FTP\n\u001b[1;32m---> 12\u001b[0m \u001b[38;5;28;01mfrom\u001b[39;00m \u001b[38;5;21;01mpayout_app\u001b[39;00m\u001b[38;5;21;01m.\u001b[39;00m\u001b[38;5;21;01memail_sender\u001b[39;00m \u001b[38;5;28;01mimport\u001b[39;00m Email_Sender\n\u001b[0;32m     13\u001b[0m \u001b[38;5;28;01mfrom\u001b[39;00m \u001b[38;5;21;01mpayout_app\u001b[39;00m\u001b[38;5;21;01m.\u001b[39;00m\u001b[38;5;21;01mmodels\u001b[39;00m \u001b[38;5;28;01mimport\u001b[39;00m Query\n\u001b[0;32m     15\u001b[0m \u001b[38;5;28;01mtry\u001b[39;00m:\n",
      "\u001b[1;31mModuleNotFoundError\u001b[0m: No module named 'payout_app'"
     ]
    }
   ],
   "source": [
    "from excel_maker import Support"
   ]
  },
  {
   "cell_type": "code",
   "execution_count": null,
   "id": "5b850865",
   "metadata": {},
   "outputs": [],
   "source": [
    "from postgress_config import PostgressDB"
   ]
  },
  {
   "cell_type": "code",
   "execution_count": null,
   "id": "422d3ad4",
   "metadata": {},
   "outputs": [],
   "source": [
    "import time"
   ]
  },
  {
   "cell_type": "code",
   "execution_count": null,
   "id": "1316ead2",
   "metadata": {},
   "outputs": [],
   "source": [
    "from oracle_config import Ora"
   ]
  },
  {
   "cell_type": "code",
   "execution_count": null,
   "id": "0393c474",
   "metadata": {},
   "outputs": [],
   "source": [
    "import numpy as np"
   ]
  },
  {
   "cell_type": "code",
   "execution_count": null,
   "id": "05bbef46",
   "metadata": {},
   "outputs": [],
   "source": [
    "sup = Support()"
   ]
  },
  {
   "cell_type": "code",
   "execution_count": null,
   "id": "d2c882a8",
   "metadata": {},
   "outputs": [],
   "source": [
    "main_dataframe = pd.read_excel(r'resources\\main_dataframe.xlsx')"
   ]
  },
  {
   "cell_type": "code",
   "execution_count": null,
   "id": "c2aae0f1",
   "metadata": {},
   "outputs": [],
   "source": [
    "main_dataframe"
   ]
  },
  {
   "cell_type": "code",
   "execution_count": null,
   "id": "21b0bb98",
   "metadata": {},
   "outputs": [],
   "source": [
    "#df = pd.read_excel(r'resources\\doc.xlsx')\n",
    "#d = datacompy.Compare(main_dataframe,df,join_columns='PATIENT_NAME')\n",
    "#sup.excel_generator(excel_data=d.df1_unq_rows, page_name=\"master\")"
   ]
  },
  {
   "cell_type": "code",
   "execution_count": null,
   "id": "4004835d",
   "metadata": {},
   "outputs": [],
   "source": [
    "#main_dataframe = sup.negative_to_postive_entry_check(main_dataframe)"
   ]
  },
  {
   "cell_type": "code",
   "execution_count": null,
   "id": "28576af5",
   "metadata": {},
   "outputs": [],
   "source": [
    "main_dataframe = pd.read_excel(r'resources\\main_dataframe.xlsx')\n",
    "main_dataframe1 = main_dataframe.copy()"
   ]
  },
  {
   "cell_type": "code",
   "execution_count": null,
   "id": "64032b8d",
   "metadata": {},
   "outputs": [],
   "source": []
  },
  {
   "cell_type": "code",
   "execution_count": null,
   "id": "694d2a8f",
   "metadata": {},
   "outputs": [],
   "source": []
  },
  {
   "cell_type": "code",
   "execution_count": null,
   "id": "5ad25cb4",
   "metadata": {
    "scrolled": true
   },
   "outputs": [],
   "source": []
  },
  {
   "cell_type": "code",
   "execution_count": null,
   "id": "7cf2efa5",
   "metadata": {
    "scrolled": true
   },
   "outputs": [],
   "source": []
  },
  {
   "cell_type": "code",
   "execution_count": null,
   "id": "19cbb57e",
   "metadata": {},
   "outputs": [],
   "source": []
  },
  {
   "cell_type": "code",
   "execution_count": null,
   "id": "f53a6614",
   "metadata": {},
   "outputs": [],
   "source": []
  },
  {
   "cell_type": "code",
   "execution_count": null,
   "id": "e47f9f12",
   "metadata": {},
   "outputs": [],
   "source": [
    "#sup.excel_generator(excel_data=main_dataframe1, page_name=\"main_dataframe1\")"
   ]
  }
 ],
 "metadata": {
  "kernelspec": {
   "display_name": "Python 3 (ipykernel)",
   "language": "python",
   "name": "python3"
  },
  "language_info": {
   "codemirror_mode": {
    "name": "ipython",
    "version": 3
   },
   "file_extension": ".py",
   "mimetype": "text/x-python",
   "name": "python",
   "nbconvert_exporter": "python",
   "pygments_lexer": "ipython3",
   "version": "3.10.10"
  }
 },
 "nbformat": 4,
 "nbformat_minor": 5
}
