{
 "cells": [
  {
   "cell_type": "code",
   "execution_count": 1,
   "id": "a0289969",
   "metadata": {},
   "outputs": [],
   "source": [
    "import pandas as pd"
   ]
  },
  {
   "cell_type": "code",
   "execution_count": 2,
   "id": "8946ff72",
   "metadata": {},
   "outputs": [],
   "source": [
    "import numpy as np"
   ]
  },
  {
   "cell_type": "code",
   "execution_count": 3,
   "id": "46d8e2de",
   "metadata": {},
   "outputs": [],
   "source": [
    "import os"
   ]
  },
  {
   "cell_type": "code",
   "execution_count": 4,
   "id": "89dcb305",
   "metadata": {},
   "outputs": [],
   "source": [
    "from postgress_config import PostgressDB"
   ]
  },
  {
   "cell_type": "code",
   "execution_count": 5,
   "id": "375e44a6",
   "metadata": {},
   "outputs": [],
   "source": [
    "from excel_maker import Support"
   ]
  },
  {
   "cell_type": "code",
   "execution_count": 6,
   "id": "884d94ec",
   "metadata": {},
   "outputs": [],
   "source": [
    "sup = Support()"
   ]
  },
  {
   "cell_type": "code",
   "execution_count": 7,
   "id": "0d74cfc1",
   "metadata": {},
   "outputs": [],
   "source": [
    "postDB = PostgressDB()"
   ]
  },
  {
   "cell_type": "code",
   "execution_count": 8,
   "id": "7b1ca0db",
   "metadata": {},
   "outputs": [],
   "source": [
    "df_dp_ip_kh = pd.read_excel(r\"resources\\ip_payout.xlsx\")"
   ]
  },
  {
   "cell_type": "code",
   "execution_count": 9,
   "id": "5a3d9d35",
   "metadata": {},
   "outputs": [],
   "source": [
    "df_dp_ip_kh = sup.add_new_column(\n",
    "            df_dp_ip_kh, \"SOURCE OF DATA\", \"IP Admitting Doc wise rev rep\"\n",
    "        )"
   ]
  },
  {
   "cell_type": "code",
   "execution_count": null,
   "id": "58336c65",
   "metadata": {},
   "outputs": [],
   "source": [
    " df_dp_op_kh = pd.read_excel(r\"resources\\op_payout.xlsx\")"
   ]
  },
  {
   "cell_type": "code",
   "execution_count": null,
   "id": "2c9c4a4f",
   "metadata": {},
   "outputs": [],
   "source": [
    "df_dp_op_kh = sup.add_new_column(\n",
    "            df_dp_op_kh, \"SOURCE OF DATA\", \"Op Rev share for Ext Doc Rep\"\n",
    "        )"
   ]
  },
  {
   "cell_type": "code",
   "execution_count": null,
   "id": "c7d315c1",
   "metadata": {},
   "outputs": [],
   "source": [
    "main_dataframe = sup.concat_dataframes(df_dp_ip_kh, df_dp_op_kh)"
   ]
  },
  {
   "cell_type": "code",
   "execution_count": null,
   "id": "aec86a71",
   "metadata": {},
   "outputs": [],
   "source": [
    "df_dp_ip_kh = sup.delete_dataframe(df_dp_ip_kh)"
   ]
  },
  {
   "cell_type": "code",
   "execution_count": null,
   "id": "bb2a7a32",
   "metadata": {},
   "outputs": [],
   "source": [
    "df_dp_op_kh = sup.delete_dataframe(df_dp_op_kh)"
   ]
  },
  {
   "cell_type": "code",
   "execution_count": null,
   "id": "e31817e3",
   "metadata": {},
   "outputs": [],
   "source": [
    "doctors_list_data, doctors_list_column = postDB.applicable_doctors()"
   ]
  },
  {
   "cell_type": "code",
   "execution_count": null,
   "id": "1a162f39",
   "metadata": {},
   "outputs": [],
   "source": [
    "doctors_list_df = pd.DataFrame(\n",
    "            data=doctors_list_data, columns=list(doctors_list_column)\n",
    "        )"
   ]
  },
  {
   "cell_type": "code",
   "execution_count": null,
   "id": "4f5dc746",
   "metadata": {},
   "outputs": [],
   "source": [
    "main_dataframe = main_dataframe[\n",
    "            main_dataframe[\"DOCTOR_NAME\"]\n",
    "            .apply(str.upper)\n",
    "            .isin(doctors_list_df[\"doctors_name\"].apply(str.upper))\n",
    "        ]"
   ]
  },
  {
   "cell_type": "code",
   "execution_count": null,
   "id": "59eb81ad",
   "metadata": {},
   "outputs": [],
   "source": [
    "df_dp_rh = pd.read_excel(r\"viren_ref\\RH_Data.xlsx\")"
   ]
  },
  {
   "cell_type": "code",
   "execution_count": null,
   "id": "4e236cb2",
   "metadata": {},
   "outputs": [],
   "source": [
    "df_dp_rh = sup.add_new_column(\n",
    "            df_dp_rh, \"SOURCE OF DATA\", \"RH DATA IP Admitting Doc wise rev rep\")"
   ]
  },
  {
   "cell_type": "code",
   "execution_count": null,
   "id": "a926b88f",
   "metadata": {},
   "outputs": [],
   "source": [
    "df_dp_rh = sup.rename_columns(\n",
    "            df_dp_rh,\n",
    "            {\n",
    "                \"BILLING_CLASS\": \"PATIENT_TYPE\",\n",
    "                \"GROSS_AMT\": \"GROSS_AMOUNT\",\n",
    "                \"NET_AMT\": \"NET_AMOUNT\",\n",
    "            },\n",
    "        )"
   ]
  },
  {
   "cell_type": "code",
   "execution_count": null,
   "id": "d3f7a469",
   "metadata": {},
   "outputs": [],
   "source": [
    "df_dp_rh = sup.delete_columns(df_dp_rh, [\"SERVICE_GROUP\"])"
   ]
  },
  {
   "cell_type": "code",
   "execution_count": null,
   "id": "3125f906",
   "metadata": {},
   "outputs": [],
   "source": [
    "main_dataframe = sup.concat_dataframes(main_dataframe, df_dp_rh)"
   ]
  },
  {
   "cell_type": "code",
   "execution_count": null,
   "id": "75dba729",
   "metadata": {},
   "outputs": [],
   "source": [
    "df_dp_rh = sup.delete_dataframe(df_dp_rh)"
   ]
  },
  {
   "cell_type": "code",
   "execution_count": null,
   "id": "a101423a",
   "metadata": {},
   "outputs": [],
   "source": [
    "doctors_list_df = sup.rename_columns(\n",
    "            doctors_list_df,\n",
    "            {\"doctors_name\": \"DOCTOR_NAME\", \"doctors_group\": \"DOCTORS_GROUP\"},\n",
    "        )"
   ]
  },
  {
   "cell_type": "code",
   "execution_count": null,
   "id": "936ea877",
   "metadata": {},
   "outputs": [],
   "source": [
    "doctors_list_df = doctors_list_df[[\"DOCTOR_NAME\", \"DOCTORS_GROUP\"]]"
   ]
  },
  {
   "cell_type": "code",
   "execution_count": null,
   "id": "d596b43e",
   "metadata": {},
   "outputs": [],
   "source": [
    "main_dataframe = pd.merge(\n",
    "            main_dataframe,\n",
    "            doctors_list_df[[\"DOCTOR_NAME\", \"DOCTORS_GROUP\"]],\n",
    "            on=\"DOCTOR_NAME\",\n",
    "            how=\"left\",\n",
    "        )"
   ]
  },
  {
   "cell_type": "code",
   "execution_count": null,
   "id": "116ea160",
   "metadata": {},
   "outputs": [],
   "source": [
    "doctors_list_df = sup.delete_dataframe(doctors_list_df)"
   ]
  },
  {
   "cell_type": "code",
   "execution_count": null,
   "id": "d7e77689",
   "metadata": {},
   "outputs": [],
   "source": [
    "main_dataframe[\"REFERENCE_GROUP\"] = main_dataframe.apply(lambda row: sup.CINP_OR_CNOP_ANE(row[\"SERVICE_CODE\"]), axis=1)"
   ]
  },
  {
   "cell_type": "code",
   "execution_count": null,
   "id": "08987c93",
   "metadata": {},
   "outputs": [],
   "source": [
    "main_dataframe"
   ]
  },
  {
   "cell_type": "code",
   "execution_count": null,
   "id": "6986ced7",
   "metadata": {},
   "outputs": [],
   "source": [
    "transplant_dataframe = pd.read_excel(r'viren_ref\\transplant.xlsx')"
   ]
  },
  {
   "cell_type": "code",
   "execution_count": null,
   "id": "1655eb09",
   "metadata": {},
   "outputs": [],
   "source": [
    "transplant_dataframe =transplant_dataframe.dropna()"
   ]
  },
  {
   "cell_type": "code",
   "execution_count": null,
   "id": "be78da89",
   "metadata": {},
   "outputs": [],
   "source": [
    "transp_df_uhid= list(transplant_dataframe['UHID']) + list(transplant_dataframe['UHID.1'])"
   ]
  },
  {
   "cell_type": "code",
   "execution_count": null,
   "id": "e1f4ddcb",
   "metadata": {},
   "outputs": [],
   "source": [
    "postDB = PostgressDB()"
   ]
  },
  {
   "cell_type": "code",
   "execution_count": null,
   "id": "ca17b83b",
   "metadata": {},
   "outputs": [],
   "source": [
    "transplant_doctor_data, column_name = postDB.transplant_doctors('HPB and Liver Transplant')"
   ]
  },
  {
   "cell_type": "code",
   "execution_count": null,
   "id": "dfd2e08f",
   "metadata": {},
   "outputs": [],
   "source": [
    "transp_df = pd.DataFrame(\n",
    "            data=transplant_doctor_data,\n",
    "            columns=list(column_name),\n",
    "        )"
   ]
  },
  {
   "cell_type": "code",
   "execution_count": null,
   "id": "2b04cde2",
   "metadata": {},
   "outputs": [],
   "source": [
    "main_dataframe = sup.transplant_working(main_dataframe, transp_df,transp_df_uhid)"
   ]
  },
  {
   "cell_type": "code",
   "execution_count": null,
   "id": "a3401df4",
   "metadata": {},
   "outputs": [],
   "source": [
    "postDB = PostgressDB()"
   ]
  },
  {
   "cell_type": "code",
   "execution_count": null,
   "id": "ebe66a71",
   "metadata": {},
   "outputs": [],
   "source": [
    "transplant_doctor_data, column_name = postDB.transplant_doctors(\"UROLOGY\")"
   ]
  },
  {
   "cell_type": "code",
   "execution_count": null,
   "id": "aa66ae82",
   "metadata": {},
   "outputs": [],
   "source": [
    "transp_df = pd.DataFrame(\n",
    "            data=transplant_doctor_data,\n",
    "            columns=list(column_name),\n",
    "        )"
   ]
  },
  {
   "cell_type": "code",
   "execution_count": null,
   "id": "96840fe1",
   "metadata": {},
   "outputs": [],
   "source": [
    "main_dataframe = sup.transplant_working(\n",
    "            main_dataframe, transp_df, transp_df_uhid\n",
    "        )"
   ]
  },
  {
   "cell_type": "code",
   "execution_count": null,
   "id": "8e12c67c",
   "metadata": {},
   "outputs": [],
   "source": [
    "transp_df = sup.delete_dataframe(transp_df)"
   ]
  },
  {
   "cell_type": "code",
   "execution_count": null,
   "id": "3bcce5ba",
   "metadata": {},
   "outputs": [],
   "source": [
    "transplant_dataframe = sup.delete_dataframe(transplant_dataframe)"
   ]
  },
  {
   "cell_type": "code",
   "execution_count": null,
   "id": "dad992d9",
   "metadata": {},
   "outputs": [],
   "source": [
    "main_dataframe = sup.srs_distribution(main_dataframe)"
   ]
  },
  {
   "cell_type": "code",
   "execution_count": null,
   "id": "1e0a7ea2",
   "metadata": {},
   "outputs": [],
   "source": [
    "#sup.excel_generator(excel_data=main_dataframe, page_name=\"main_dataframe\")"
   ]
  }
 ],
 "metadata": {
  "kernelspec": {
   "display_name": "Python 3 (ipykernel)",
   "language": "python",
   "name": "python3"
  },
  "language_info": {
   "codemirror_mode": {
    "name": "ipython",
    "version": 3
   },
   "file_extension": ".py",
   "mimetype": "text/x-python",
   "name": "python",
   "nbconvert_exporter": "python",
   "pygments_lexer": "ipython3",
   "version": "3.10.4"
  }
 },
 "nbformat": 4,
 "nbformat_minor": 5
}
