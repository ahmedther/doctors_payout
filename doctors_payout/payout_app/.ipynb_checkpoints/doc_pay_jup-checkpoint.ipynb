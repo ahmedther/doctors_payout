{
 "cells": [
  {
   "cell_type": "code",
   "execution_count": 1,
   "id": "a0289969",
   "metadata": {},
   "outputs": [],
   "source": [
    "import pandas as pd"
   ]
  },
  {
   "cell_type": "code",
   "execution_count": 2,
   "id": "8946ff72",
   "metadata": {},
   "outputs": [],
   "source": [
    "import numpy as np"
   ]
  },
  {
   "cell_type": "code",
   "execution_count": 3,
   "id": "46d8e2de",
   "metadata": {},
   "outputs": [],
   "source": [
    "import os"
   ]
  },
  {
   "cell_type": "code",
   "execution_count": 4,
   "id": "89dcb305",
   "metadata": {},
   "outputs": [],
   "source": [
    "from postgress_config import PostgressDB"
   ]
  },
  {
   "cell_type": "code",
   "execution_count": 5,
   "id": "375e44a6",
   "metadata": {},
   "outputs": [],
   "source": [
    "from excel_maker import Support"
   ]
  },
  {
   "cell_type": "code",
   "execution_count": 6,
   "id": "884d94ec",
   "metadata": {},
   "outputs": [],
   "source": [
    "sup = Support()"
   ]
  },
  {
   "cell_type": "code",
   "execution_count": 7,
   "id": "0d74cfc1",
   "metadata": {},
   "outputs": [],
   "source": [
    "postDB = PostgressDB()"
   ]
  },
  {
   "cell_type": "code",
   "execution_count": 8,
   "id": "7b1ca0db",
   "metadata": {},
   "outputs": [],
   "source": [
    "df_dp_ip_kh = pd.read_excel(r\"resources\\ip_payout.xlsx\")"
   ]
  },
  {
   "cell_type": "code",
   "execution_count": 9,
   "id": "5a3d9d35",
   "metadata": {},
   "outputs": [],
   "source": [
    "df_dp_ip_kh = sup.add_new_column(\n",
    "            df_dp_ip_kh, \"SOURCE OF DATA\", \"IP Admitting Doc wise rev rep\"\n",
    "        )"
   ]
  },
  {
   "cell_type": "code",
   "execution_count": 10,
   "id": "58336c65",
   "metadata": {},
   "outputs": [],
   "source": [
    " df_dp_op_kh = pd.read_excel(r\"resources\\op_payout.xlsx\")"
   ]
  },
  {
   "cell_type": "code",
   "execution_count": 11,
   "id": "2c9c4a4f",
   "metadata": {},
   "outputs": [],
   "source": [
    "df_dp_op_kh = sup.add_new_column(\n",
    "            df_dp_op_kh, \"SOURCE OF DATA\", \"Op Rev share for Ext Doc Rep\"\n",
    "        )"
   ]
  },
  {
   "cell_type": "code",
   "execution_count": 12,
   "id": "c7d315c1",
   "metadata": {},
   "outputs": [],
   "source": [
    "main_dataframe = sup.concat_dataframes(df_dp_ip_kh, df_dp_op_kh)"
   ]
  },
  {
   "cell_type": "code",
   "execution_count": 13,
   "id": "aec86a71",
   "metadata": {},
   "outputs": [],
   "source": [
    "df_dp_ip_kh = sup.delete_dataframe(df_dp_ip_kh)"
   ]
  },
  {
   "cell_type": "code",
   "execution_count": 14,
   "id": "bb2a7a32",
   "metadata": {},
   "outputs": [],
   "source": [
    "df_dp_op_kh = sup.delete_dataframe(df_dp_op_kh)"
   ]
  },
  {
   "cell_type": "code",
   "execution_count": 15,
   "id": "e31817e3",
   "metadata": {},
   "outputs": [],
   "source": [
    "doctors_list_data, doctors_list_column = postDB.applicable_doctors()"
   ]
  },
  {
   "cell_type": "code",
   "execution_count": 16,
   "id": "1a162f39",
   "metadata": {},
   "outputs": [],
   "source": [
    "doctors_list_df = pd.DataFrame(\n",
    "            data=doctors_list_data, columns=list(doctors_list_column)\n",
    "        )"
   ]
  },
  {
   "cell_type": "code",
   "execution_count": 17,
   "id": "4f5dc746",
   "metadata": {},
   "outputs": [],
   "source": [
    "main_dataframe = main_dataframe[\n",
    "            main_dataframe[\"DOCTOR_NAME\"]\n",
    "            .apply(str.upper)\n",
    "            .isin(doctors_list_df[\"doctors_name\"].apply(str.upper))\n",
    "        ]"
   ]
  },
  {
   "cell_type": "code",
   "execution_count": 18,
   "id": "59eb81ad",
   "metadata": {},
   "outputs": [],
   "source": [
    "df_dp_rh = pd.read_excel(r\"viren_ref\\RH_Data.xlsx\")"
   ]
  },
  {
   "cell_type": "code",
   "execution_count": 19,
   "id": "4e236cb2",
   "metadata": {},
   "outputs": [],
   "source": [
    "df_dp_rh = sup.add_new_column(\n",
    "            df_dp_rh, \"SOURCE OF DATA\", \"RH DATA IP Admitting Doc wise rev rep\")"
   ]
  },
  {
   "cell_type": "code",
   "execution_count": 20,
   "id": "a926b88f",
   "metadata": {},
   "outputs": [],
   "source": [
    "df_dp_rh = sup.rename_columns(\n",
    "            df_dp_rh,\n",
    "            {\n",
    "                \"BILLING_CLASS\": \"PATIENT_TYPE\",\n",
    "                \"GROSS_AMT\": \"GROSS_AMOUNT\",\n",
    "                \"NET_AMT\": \"NET_AMOUNT\",\n",
    "            },\n",
    "        )"
   ]
  },
  {
   "cell_type": "code",
   "execution_count": 21,
   "id": "d3f7a469",
   "metadata": {},
   "outputs": [],
   "source": [
    "df_dp_rh = sup.delete_columns(df_dp_rh, [\"SERVICE_GROUP\"])"
   ]
  },
  {
   "cell_type": "code",
   "execution_count": 22,
   "id": "9e883902",
   "metadata": {},
   "outputs": [],
   "source": [
    "df_dp_rh = sup.rh_working(df_dp_rh,main_dataframe)"
   ]
  },
  {
   "cell_type": "code",
   "execution_count": 23,
   "id": "3125f906",
   "metadata": {},
   "outputs": [],
   "source": [
    "main_dataframe = sup.concat_dataframes(main_dataframe, df_dp_rh)"
   ]
  },
  {
   "cell_type": "code",
   "execution_count": 24,
   "id": "75dba729",
   "metadata": {},
   "outputs": [],
   "source": [
    "df_dp_rh = sup.delete_dataframe(df_dp_rh)"
   ]
  },
  {
   "cell_type": "code",
   "execution_count": 25,
   "id": "a101423a",
   "metadata": {},
   "outputs": [],
   "source": [
    "doctors_list_df = sup.rename_columns(\n",
    "            doctors_list_df,\n",
    "            {\"doctors_name\": \"DOCTOR_NAME\", \"doctors_group\": \"DOCTORS_GROUP\"},\n",
    "        )"
   ]
  },
  {
   "cell_type": "code",
   "execution_count": 26,
   "id": "936ea877",
   "metadata": {},
   "outputs": [],
   "source": [
    "doctors_list_df = doctors_list_df[[\"DOCTOR_NAME\", \"DOCTORS_GROUP\"]]"
   ]
  },
  {
   "cell_type": "code",
   "execution_count": 27,
   "id": "d596b43e",
   "metadata": {},
   "outputs": [],
   "source": [
    "main_dataframe = pd.merge(\n",
    "            main_dataframe,\n",
    "            doctors_list_df[[\"DOCTOR_NAME\", \"DOCTORS_GROUP\"]],\n",
    "            on=\"DOCTOR_NAME\",\n",
    "            how=\"left\",\n",
    "        )"
   ]
  },
  {
   "cell_type": "code",
   "execution_count": 28,
   "id": "d7e77689",
   "metadata": {},
   "outputs": [],
   "source": [
    "main_dataframe[\"REFERENCE_GROUP\"] = main_dataframe.apply(lambda row: sup.CINP_OR_CNOP_ANE(row[\"SERVICE_CODE\"]), axis=1)"
   ]
  },
  {
   "cell_type": "code",
   "execution_count": 29,
   "id": "6986ced7",
   "metadata": {},
   "outputs": [],
   "source": [
    "transplant_dataframe = pd.read_excel(r'viren_ref\\transplant.xlsx')"
   ]
  },
  {
   "cell_type": "code",
   "execution_count": 30,
   "id": "1655eb09",
   "metadata": {},
   "outputs": [],
   "source": [
    "transplant_dataframe =transplant_dataframe.dropna()"
   ]
  },
  {
   "cell_type": "code",
   "execution_count": 31,
   "id": "be78da89",
   "metadata": {},
   "outputs": [],
   "source": [
    "transp_df_uhid= list(transplant_dataframe['UHID']) + list(transplant_dataframe['UHID.1'])"
   ]
  },
  {
   "cell_type": "code",
   "execution_count": 32,
   "id": "e1f4ddcb",
   "metadata": {},
   "outputs": [],
   "source": [
    "postDB = PostgressDB()"
   ]
  },
  {
   "cell_type": "code",
   "execution_count": 33,
   "id": "ca17b83b",
   "metadata": {},
   "outputs": [],
   "source": [
    "transplant_doctor_data, column_name = postDB.transplant_doctors('HPB and Liver Transplant')"
   ]
  },
  {
   "cell_type": "code",
   "execution_count": 34,
   "id": "dfd2e08f",
   "metadata": {},
   "outputs": [],
   "source": [
    "transp_df = pd.DataFrame(\n",
    "            data=transplant_doctor_data,\n",
    "            columns=list(column_name),\n",
    "        )"
   ]
  },
  {
   "cell_type": "code",
   "execution_count": 35,
   "id": "2b04cde2",
   "metadata": {},
   "outputs": [
    {
     "name": "stderr",
     "output_type": "stream",
     "text": [
      "D:\\Python Projects\\doctors_payout\\Scripts\\doctors_payout\\payout_app\\excel_maker.py:184: SettingWithCopyWarning: \n",
      "A value is trying to be set on a copy of a slice from a DataFrame.\n",
      "Try using .loc[row_indexer,col_indexer] = value instead\n",
      "\n",
      "See the caveats in the documentation: https://pandas.pydata.org/pandas-docs/stable/user_guide/indexing.html#returning-a-view-versus-a-copy\n",
      "  row[\"DOCTOR_NAME\"] = doc\n",
      "D:\\Python Projects\\doctors_payout\\Scripts\\doctors_payout\\payout_app\\excel_maker.py:190: SettingWithCopyWarning: \n",
      "A value is trying to be set on a copy of a slice from a DataFrame.\n",
      "Try using .loc[row_indexer,col_indexer] = value instead\n",
      "\n",
      "See the caveats in the documentation: https://pandas.pydata.org/pandas-docs/stable/user_guide/indexing.html#returning-a-view-versus-a-copy\n",
      "  row[\"DOCTOR_SHARE\"] = (\n",
      "D:\\Python Projects\\doctors_payout\\Scripts\\doctors_payout\\payout_app\\excel_maker.py:202: SettingWithCopyWarning: \n",
      "A value is trying to be set on a copy of a slice from a DataFrame.\n",
      "Try using .loc[row_indexer,col_indexer] = value instead\n",
      "\n",
      "See the caveats in the documentation: https://pandas.pydata.org/pandas-docs/stable/user_guide/indexing.html#returning-a-view-versus-a-copy\n",
      "  row[\"DOCTOR_NAME\"] = doc\n",
      "D:\\Python Projects\\doctors_payout\\Scripts\\doctors_payout\\payout_app\\excel_maker.py:208: SettingWithCopyWarning: \n",
      "A value is trying to be set on a copy of a slice from a DataFrame.\n",
      "Try using .loc[row_indexer,col_indexer] = value instead\n",
      "\n",
      "See the caveats in the documentation: https://pandas.pydata.org/pandas-docs/stable/user_guide/indexing.html#returning-a-view-versus-a-copy\n",
      "  row[\"DOCTOR_SHARE\"] = (\n"
     ]
    }
   ],
   "source": [
    "main_dataframe = sup.transplant_working(main_dataframe, transp_df,transp_df_uhid)"
   ]
  },
  {
   "cell_type": "code",
   "execution_count": 36,
   "id": "a3401df4",
   "metadata": {},
   "outputs": [],
   "source": [
    "postDB = PostgressDB()"
   ]
  },
  {
   "cell_type": "code",
   "execution_count": 37,
   "id": "ebe66a71",
   "metadata": {},
   "outputs": [],
   "source": [
    "transplant_doctor_data, column_name = postDB.transplant_doctors(\"UROLOGY\")"
   ]
  },
  {
   "cell_type": "code",
   "execution_count": 38,
   "id": "aa66ae82",
   "metadata": {},
   "outputs": [],
   "source": [
    "transp_df = pd.DataFrame(\n",
    "            data=transplant_doctor_data,\n",
    "            columns=list(column_name),\n",
    "        )"
   ]
  },
  {
   "cell_type": "code",
   "execution_count": 39,
   "id": "96840fe1",
   "metadata": {},
   "outputs": [
    {
     "name": "stderr",
     "output_type": "stream",
     "text": [
      "D:\\Python Projects\\doctors_payout\\Scripts\\doctors_payout\\payout_app\\excel_maker.py:202: SettingWithCopyWarning: \n",
      "A value is trying to be set on a copy of a slice from a DataFrame.\n",
      "Try using .loc[row_indexer,col_indexer] = value instead\n",
      "\n",
      "See the caveats in the documentation: https://pandas.pydata.org/pandas-docs/stable/user_guide/indexing.html#returning-a-view-versus-a-copy\n",
      "  row[\"DOCTOR_NAME\"] = doc\n",
      "D:\\Python Projects\\doctors_payout\\Scripts\\doctors_payout\\payout_app\\excel_maker.py:208: SettingWithCopyWarning: \n",
      "A value is trying to be set on a copy of a slice from a DataFrame.\n",
      "Try using .loc[row_indexer,col_indexer] = value instead\n",
      "\n",
      "See the caveats in the documentation: https://pandas.pydata.org/pandas-docs/stable/user_guide/indexing.html#returning-a-view-versus-a-copy\n",
      "  row[\"DOCTOR_SHARE\"] = (\n"
     ]
    },
    {
     "ename": "KeyboardInterrupt",
     "evalue": "",
     "output_type": "error",
     "traceback": [
      "\u001b[1;31m---------------------------------------------------------------------------\u001b[0m",
      "\u001b[1;31mKeyboardInterrupt\u001b[0m                         Traceback (most recent call last)",
      "Cell \u001b[1;32mIn[39], line 1\u001b[0m\n\u001b[1;32m----> 1\u001b[0m main_dataframe \u001b[38;5;241m=\u001b[39m \u001b[43msup\u001b[49m\u001b[38;5;241;43m.\u001b[39;49m\u001b[43mtransplant_working\u001b[49m\u001b[43m(\u001b[49m\n\u001b[0;32m      2\u001b[0m \u001b[43m            \u001b[49m\u001b[43mmain_dataframe\u001b[49m\u001b[43m,\u001b[49m\u001b[43m \u001b[49m\u001b[43mtransp_df\u001b[49m\u001b[43m,\u001b[49m\u001b[43m \u001b[49m\u001b[43mtransp_df_uhid\u001b[49m\n\u001b[0;32m      3\u001b[0m \u001b[43m        \u001b[49m\u001b[43m)\u001b[49m\n",
      "File \u001b[1;32mD:\\Python Projects\\doctors_payout\\Scripts\\doctors_payout\\payout_app\\excel_maker.py:169\u001b[0m, in \u001b[0;36mSupport.transplant_working\u001b[1;34m(self, dataframe, tranplant_df, uhid_list)\u001b[0m\n\u001b[0;32m    166\u001b[0m \u001b[38;5;66;03m#  Itteration\u001b[39;00m\n\u001b[0;32m    167\u001b[0m \u001b[38;5;28;01mfor\u001b[39;00m i \u001b[38;5;129;01min\u001b[39;00m \u001b[38;5;28mrange\u001b[39m(\u001b[38;5;28mlen\u001b[39m(dataframe)):\n\u001b[0;32m    168\u001b[0m     \u001b[38;5;66;03m# Curent Row\u001b[39;00m\n\u001b[1;32m--> 169\u001b[0m     row \u001b[38;5;241m=\u001b[39m \u001b[43mdataframe\u001b[49m\u001b[38;5;241;43m.\u001b[39;49m\u001b[43miloc\u001b[49m\u001b[43m[\u001b[49m\u001b[43m[\u001b[49m\u001b[43mi\u001b[49m\u001b[43m]\u001b[49m\u001b[43m]\u001b[49m\n\u001b[0;32m    170\u001b[0m     row_uhid \u001b[38;5;241m=\u001b[39m \u001b[38;5;28mset\u001b[39m(row[\u001b[38;5;124m\"\u001b[39m\u001b[38;5;124mPATIENT_ID\u001b[39m\u001b[38;5;124m\"\u001b[39m])\n\u001b[0;32m    171\u001b[0m     \u001b[38;5;66;03m# set doc name to find\u001b[39;00m\n",
      "File \u001b[1;32mD:\\Python Projects\\doctors_payout\\lib\\site-packages\\pandas\\core\\indexing.py:1073\u001b[0m, in \u001b[0;36m_LocationIndexer.__getitem__\u001b[1;34m(self, key)\u001b[0m\n\u001b[0;32m   1070\u001b[0m axis \u001b[38;5;241m=\u001b[39m \u001b[38;5;28mself\u001b[39m\u001b[38;5;241m.\u001b[39maxis \u001b[38;5;129;01mor\u001b[39;00m \u001b[38;5;241m0\u001b[39m\n\u001b[0;32m   1072\u001b[0m maybe_callable \u001b[38;5;241m=\u001b[39m com\u001b[38;5;241m.\u001b[39mapply_if_callable(key, \u001b[38;5;28mself\u001b[39m\u001b[38;5;241m.\u001b[39mobj)\n\u001b[1;32m-> 1073\u001b[0m \u001b[38;5;28;01mreturn\u001b[39;00m \u001b[38;5;28;43mself\u001b[39;49m\u001b[38;5;241;43m.\u001b[39;49m\u001b[43m_getitem_axis\u001b[49m\u001b[43m(\u001b[49m\u001b[43mmaybe_callable\u001b[49m\u001b[43m,\u001b[49m\u001b[43m \u001b[49m\u001b[43maxis\u001b[49m\u001b[38;5;241;43m=\u001b[39;49m\u001b[43maxis\u001b[49m\u001b[43m)\u001b[49m\n",
      "File \u001b[1;32mD:\\Python Projects\\doctors_payout\\lib\\site-packages\\pandas\\core\\indexing.py:1616\u001b[0m, in \u001b[0;36m_iLocIndexer._getitem_axis\u001b[1;34m(self, key, axis)\u001b[0m\n\u001b[0;32m   1614\u001b[0m \u001b[38;5;66;03m# a list of integers\u001b[39;00m\n\u001b[0;32m   1615\u001b[0m \u001b[38;5;28;01melif\u001b[39;00m is_list_like_indexer(key):\n\u001b[1;32m-> 1616\u001b[0m     \u001b[38;5;28;01mreturn\u001b[39;00m \u001b[38;5;28;43mself\u001b[39;49m\u001b[38;5;241;43m.\u001b[39;49m\u001b[43m_get_list_axis\u001b[49m\u001b[43m(\u001b[49m\u001b[43mkey\u001b[49m\u001b[43m,\u001b[49m\u001b[43m \u001b[49m\u001b[43maxis\u001b[49m\u001b[38;5;241;43m=\u001b[39;49m\u001b[43maxis\u001b[49m\u001b[43m)\u001b[49m\n\u001b[0;32m   1618\u001b[0m \u001b[38;5;66;03m# a single integer\u001b[39;00m\n\u001b[0;32m   1619\u001b[0m \u001b[38;5;28;01melse\u001b[39;00m:\n\u001b[0;32m   1620\u001b[0m     key \u001b[38;5;241m=\u001b[39m item_from_zerodim(key)\n",
      "File \u001b[1;32mD:\\Python Projects\\doctors_payout\\lib\\site-packages\\pandas\\core\\indexing.py:1587\u001b[0m, in \u001b[0;36m_iLocIndexer._get_list_axis\u001b[1;34m(self, key, axis)\u001b[0m\n\u001b[0;32m   1570\u001b[0m \u001b[38;5;250m\u001b[39m\u001b[38;5;124;03m\"\"\"\u001b[39;00m\n\u001b[0;32m   1571\u001b[0m \u001b[38;5;124;03mReturn Series values by list or array of integers.\u001b[39;00m\n\u001b[0;32m   1572\u001b[0m \n\u001b[1;32m   (...)\u001b[0m\n\u001b[0;32m   1584\u001b[0m \u001b[38;5;124;03m`axis` can only be zero.\u001b[39;00m\n\u001b[0;32m   1585\u001b[0m \u001b[38;5;124;03m\"\"\"\u001b[39;00m\n\u001b[0;32m   1586\u001b[0m \u001b[38;5;28;01mtry\u001b[39;00m:\n\u001b[1;32m-> 1587\u001b[0m     \u001b[38;5;28;01mreturn\u001b[39;00m \u001b[38;5;28;43mself\u001b[39;49m\u001b[38;5;241;43m.\u001b[39;49m\u001b[43mobj\u001b[49m\u001b[38;5;241;43m.\u001b[39;49m\u001b[43m_take_with_is_copy\u001b[49m\u001b[43m(\u001b[49m\u001b[43mkey\u001b[49m\u001b[43m,\u001b[49m\u001b[43m \u001b[49m\u001b[43maxis\u001b[49m\u001b[38;5;241;43m=\u001b[39;49m\u001b[43maxis\u001b[49m\u001b[43m)\u001b[49m\n\u001b[0;32m   1588\u001b[0m \u001b[38;5;28;01mexcept\u001b[39;00m \u001b[38;5;167;01mIndexError\u001b[39;00m \u001b[38;5;28;01mas\u001b[39;00m err:\n\u001b[0;32m   1589\u001b[0m     \u001b[38;5;66;03m# re-raise with different error message\u001b[39;00m\n\u001b[0;32m   1590\u001b[0m     \u001b[38;5;28;01mraise\u001b[39;00m \u001b[38;5;167;01mIndexError\u001b[39;00m(\u001b[38;5;124m\"\u001b[39m\u001b[38;5;124mpositional indexers are out-of-bounds\u001b[39m\u001b[38;5;124m\"\u001b[39m) \u001b[38;5;28;01mfrom\u001b[39;00m \u001b[38;5;21;01merr\u001b[39;00m\n",
      "File \u001b[1;32mD:\\Python Projects\\doctors_payout\\lib\\site-packages\\pandas\\core\\generic.py:3902\u001b[0m, in \u001b[0;36mNDFrame._take_with_is_copy\u001b[1;34m(self, indices, axis)\u001b[0m\n\u001b[0;32m   3894\u001b[0m \u001b[38;5;28;01mdef\u001b[39;00m \u001b[38;5;21m_take_with_is_copy\u001b[39m(\u001b[38;5;28mself\u001b[39m: NDFrameT, indices, axis\u001b[38;5;241m=\u001b[39m\u001b[38;5;241m0\u001b[39m) \u001b[38;5;241m-\u001b[39m\u001b[38;5;241m>\u001b[39m NDFrameT:\n\u001b[0;32m   3895\u001b[0m \u001b[38;5;250m    \u001b[39m\u001b[38;5;124;03m\"\"\"\u001b[39;00m\n\u001b[0;32m   3896\u001b[0m \u001b[38;5;124;03m    Internal version of the `take` method that sets the `_is_copy`\u001b[39;00m\n\u001b[0;32m   3897\u001b[0m \u001b[38;5;124;03m    attribute to keep track of the parent dataframe (using in indexing\u001b[39;00m\n\u001b[1;32m   (...)\u001b[0m\n\u001b[0;32m   3900\u001b[0m \u001b[38;5;124;03m    See the docstring of `take` for full explanation of the parameters.\u001b[39;00m\n\u001b[0;32m   3901\u001b[0m \u001b[38;5;124;03m    \"\"\"\u001b[39;00m\n\u001b[1;32m-> 3902\u001b[0m     result \u001b[38;5;241m=\u001b[39m \u001b[38;5;28;43mself\u001b[39;49m\u001b[38;5;241;43m.\u001b[39;49m\u001b[43m_take\u001b[49m\u001b[43m(\u001b[49m\u001b[43mindices\u001b[49m\u001b[38;5;241;43m=\u001b[39;49m\u001b[43mindices\u001b[49m\u001b[43m,\u001b[49m\u001b[43m \u001b[49m\u001b[43maxis\u001b[49m\u001b[38;5;241;43m=\u001b[39;49m\u001b[43maxis\u001b[49m\u001b[43m)\u001b[49m\n\u001b[0;32m   3903\u001b[0m     \u001b[38;5;66;03m# Maybe set copy if we didn't actually change the index.\u001b[39;00m\n\u001b[0;32m   3904\u001b[0m     \u001b[38;5;28;01mif\u001b[39;00m \u001b[38;5;129;01mnot\u001b[39;00m result\u001b[38;5;241m.\u001b[39m_get_axis(axis)\u001b[38;5;241m.\u001b[39mequals(\u001b[38;5;28mself\u001b[39m\u001b[38;5;241m.\u001b[39m_get_axis(axis)):\n",
      "File \u001b[1;32mD:\\Python Projects\\doctors_payout\\lib\\site-packages\\pandas\\core\\generic.py:3886\u001b[0m, in \u001b[0;36mNDFrame._take\u001b[1;34m(self, indices, axis, convert_indices)\u001b[0m\n\u001b[0;32m   3879\u001b[0m \u001b[38;5;250m\u001b[39m\u001b[38;5;124;03m\"\"\"\u001b[39;00m\n\u001b[0;32m   3880\u001b[0m \u001b[38;5;124;03mInternal version of the `take` allowing specification of additional args.\u001b[39;00m\n\u001b[0;32m   3881\u001b[0m \n\u001b[0;32m   3882\u001b[0m \u001b[38;5;124;03mSee the docstring of `take` for full explanation of the parameters.\u001b[39;00m\n\u001b[0;32m   3883\u001b[0m \u001b[38;5;124;03m\"\"\"\u001b[39;00m\n\u001b[0;32m   3884\u001b[0m \u001b[38;5;28mself\u001b[39m\u001b[38;5;241m.\u001b[39m_consolidate_inplace()\n\u001b[1;32m-> 3886\u001b[0m new_data \u001b[38;5;241m=\u001b[39m \u001b[38;5;28;43mself\u001b[39;49m\u001b[38;5;241;43m.\u001b[39;49m\u001b[43m_mgr\u001b[49m\u001b[38;5;241;43m.\u001b[39;49m\u001b[43mtake\u001b[49m\u001b[43m(\u001b[49m\n\u001b[0;32m   3887\u001b[0m \u001b[43m    \u001b[49m\u001b[43mindices\u001b[49m\u001b[43m,\u001b[49m\n\u001b[0;32m   3888\u001b[0m \u001b[43m    \u001b[49m\u001b[43maxis\u001b[49m\u001b[38;5;241;43m=\u001b[39;49m\u001b[38;5;28;43mself\u001b[39;49m\u001b[38;5;241;43m.\u001b[39;49m\u001b[43m_get_block_manager_axis\u001b[49m\u001b[43m(\u001b[49m\u001b[43maxis\u001b[49m\u001b[43m)\u001b[49m\u001b[43m,\u001b[49m\n\u001b[0;32m   3889\u001b[0m \u001b[43m    \u001b[49m\u001b[43mverify\u001b[49m\u001b[38;5;241;43m=\u001b[39;49m\u001b[38;5;28;43;01mTrue\u001b[39;49;00m\u001b[43m,\u001b[49m\n\u001b[0;32m   3890\u001b[0m \u001b[43m    \u001b[49m\u001b[43mconvert_indices\u001b[49m\u001b[38;5;241;43m=\u001b[39;49m\u001b[43mconvert_indices\u001b[49m\u001b[43m,\u001b[49m\n\u001b[0;32m   3891\u001b[0m \u001b[43m\u001b[49m\u001b[43m)\u001b[49m\n\u001b[0;32m   3892\u001b[0m \u001b[38;5;28;01mreturn\u001b[39;00m \u001b[38;5;28mself\u001b[39m\u001b[38;5;241m.\u001b[39m_constructor(new_data)\u001b[38;5;241m.\u001b[39m__finalize__(\u001b[38;5;28mself\u001b[39m, method\u001b[38;5;241m=\u001b[39m\u001b[38;5;124m\"\u001b[39m\u001b[38;5;124mtake\u001b[39m\u001b[38;5;124m\"\u001b[39m)\n",
      "File \u001b[1;32mD:\\Python Projects\\doctors_payout\\lib\\site-packages\\pandas\\core\\internals\\managers.py:980\u001b[0m, in \u001b[0;36mBaseBlockManager.take\u001b[1;34m(self, indexer, axis, verify, convert_indices)\u001b[0m\n\u001b[0;32m    977\u001b[0m     indexer \u001b[38;5;241m=\u001b[39m maybe_convert_indices(indexer, n, verify\u001b[38;5;241m=\u001b[39mverify)\n\u001b[0;32m    979\u001b[0m new_labels \u001b[38;5;241m=\u001b[39m \u001b[38;5;28mself\u001b[39m\u001b[38;5;241m.\u001b[39maxes[axis]\u001b[38;5;241m.\u001b[39mtake(indexer)\n\u001b[1;32m--> 980\u001b[0m \u001b[38;5;28;01mreturn\u001b[39;00m \u001b[38;5;28;43mself\u001b[39;49m\u001b[38;5;241;43m.\u001b[39;49m\u001b[43mreindex_indexer\u001b[49m\u001b[43m(\u001b[49m\n\u001b[0;32m    981\u001b[0m \u001b[43m    \u001b[49m\u001b[43mnew_axis\u001b[49m\u001b[38;5;241;43m=\u001b[39;49m\u001b[43mnew_labels\u001b[49m\u001b[43m,\u001b[49m\n\u001b[0;32m    982\u001b[0m \u001b[43m    \u001b[49m\u001b[43mindexer\u001b[49m\u001b[38;5;241;43m=\u001b[39;49m\u001b[43mindexer\u001b[49m\u001b[43m,\u001b[49m\n\u001b[0;32m    983\u001b[0m \u001b[43m    \u001b[49m\u001b[43maxis\u001b[49m\u001b[38;5;241;43m=\u001b[39;49m\u001b[43maxis\u001b[49m\u001b[43m,\u001b[49m\n\u001b[0;32m    984\u001b[0m \u001b[43m    \u001b[49m\u001b[43mallow_dups\u001b[49m\u001b[38;5;241;43m=\u001b[39;49m\u001b[38;5;28;43;01mTrue\u001b[39;49;00m\u001b[43m,\u001b[49m\n\u001b[0;32m    985\u001b[0m \u001b[43m    \u001b[49m\u001b[43mcopy\u001b[49m\u001b[38;5;241;43m=\u001b[39;49m\u001b[38;5;28;43;01mNone\u001b[39;49;00m\u001b[43m,\u001b[49m\n\u001b[0;32m    986\u001b[0m \u001b[43m\u001b[49m\u001b[43m)\u001b[49m\n",
      "File \u001b[1;32mD:\\Python Projects\\doctors_payout\\lib\\site-packages\\pandas\\core\\internals\\managers.py:773\u001b[0m, in \u001b[0;36mBaseBlockManager.reindex_indexer\u001b[1;34m(self, new_axis, indexer, axis, fill_value, allow_dups, copy, only_slice, use_na_proxy)\u001b[0m\n\u001b[0;32m    770\u001b[0m \u001b[38;5;28;01mif\u001b[39;00m axis \u001b[38;5;241m==\u001b[39m \u001b[38;5;241m1\u001b[39m:\n\u001b[0;32m    771\u001b[0m     \u001b[38;5;66;03m# We can avoid the need to rebuild these\u001b[39;00m\n\u001b[0;32m    772\u001b[0m     new_mgr\u001b[38;5;241m.\u001b[39m_blknos \u001b[38;5;241m=\u001b[39m \u001b[38;5;28mself\u001b[39m\u001b[38;5;241m.\u001b[39mblknos\u001b[38;5;241m.\u001b[39mcopy()\n\u001b[1;32m--> 773\u001b[0m     new_mgr\u001b[38;5;241m.\u001b[39m_blklocs \u001b[38;5;241m=\u001b[39m \u001b[38;5;28;43mself\u001b[39;49m\u001b[38;5;241;43m.\u001b[39;49m\u001b[43mblklocs\u001b[49m\u001b[38;5;241;43m.\u001b[39;49m\u001b[43mcopy\u001b[49m\u001b[43m(\u001b[49m\u001b[43m)\u001b[49m\n\u001b[0;32m    774\u001b[0m \u001b[38;5;28;01mreturn\u001b[39;00m new_mgr\n",
      "\u001b[1;31mKeyboardInterrupt\u001b[0m: "
     ]
    }
   ],
   "source": [
    "main_dataframe = sup.transplant_working(\n",
    "            main_dataframe, transp_df, transp_df_uhid\n",
    "        )"
   ]
  },
  {
   "cell_type": "code",
   "execution_count": null,
   "id": "8e12c67c",
   "metadata": {},
   "outputs": [],
   "source": [
    "transp_df = sup.delete_dataframe(transp_df)"
   ]
  },
  {
   "cell_type": "code",
   "execution_count": null,
   "id": "3bcce5ba",
   "metadata": {},
   "outputs": [],
   "source": [
    "transplant_dataframe = sup.delete_dataframe(transplant_dataframe)"
   ]
  },
  {
   "cell_type": "code",
   "execution_count": null,
   "id": "18f70504",
   "metadata": {},
   "outputs": [],
   "source": [
    "# Calculations for Cardiac\n",
    "postDB = PostgressDB()\n",
    "transplant_doctor_data, column_name = postDB.transplant_doctors(\"CARDIOLOGY\")\n",
    "# sup.excel_generator(excel_data=main_dataframe, page_name=\"test\")\n",
    "transp_df = pd.DataFrame(\n",
    "    data=transplant_doctor_data,\n",
    "    columns=list(column_name),\n",
    " )\n",
    "\n",
    "main_dataframe = sup.transplant_working(\n",
    "    main_dataframe, transp_df, transp_df_uhid\n",
    ")\n",
    "transp_df = sup.delete_dataframe(transp_df)\n",
    "transplant_dataframe = sup.delete_dataframe(transplant_dataframe)"
   ]
  },
  {
   "cell_type": "code",
   "execution_count": null,
   "id": "dad992d9",
   "metadata": {},
   "outputs": [],
   "source": [
    "main_dataframe = sup.srs_distribution(main_dataframe)"
   ]
  },
  {
   "cell_type": "code",
   "execution_count": null,
   "id": "6a50d7d2",
   "metadata": {},
   "outputs": [],
   "source": [
    "main_dataframe = sup.check_peadiatric(main_dataframe)"
   ]
  },
  {
   "cell_type": "code",
   "execution_count": null,
   "id": "5584538b",
   "metadata": {},
   "outputs": [],
   "source": [
    "main_dataframe = sup.ehc_patient_working(main_dataframe,doctors_list_df)"
   ]
  },
  {
   "cell_type": "code",
   "execution_count": null,
   "id": "758de6de",
   "metadata": {},
   "outputs": [],
   "source": [
    "doctors_list_df = sup.delete_dataframe(doctors_list_df)"
   ]
  },
  {
   "cell_type": "code",
   "execution_count": null,
   "id": "986d7435",
   "metadata": {},
   "outputs": [],
   "source": [
    "main_dataframe = sup.rev_coloumn_data(main_dataframe)"
   ]
  },
  {
   "cell_type": "code",
   "execution_count": null,
   "id": "ba11e12c",
   "metadata": {},
   "outputs": [],
   "source": [
    "@sup.elapsed_time\n",
    "main_dataframe = sup.plastic_cosmetic_gst(main_dataframe)"
   ]
  },
  {
   "cell_type": "code",
   "execution_count": null,
   "id": "d1fc3cc9",
   "metadata": {},
   "outputs": [],
   "source": [
    "sup.excel_generator(excel_data=main_dataframe, page_name=\"main_dataframe\")"
   ]
  }
 ],
 "metadata": {
  "kernelspec": {
   "display_name": "Python 3 (ipykernel)",
   "language": "python",
   "name": "python3"
  },
  "language_info": {
   "codemirror_mode": {
    "name": "ipython",
    "version": 3
   },
   "file_extension": ".py",
   "mimetype": "text/x-python",
   "name": "python",
   "nbconvert_exporter": "python",
   "pygments_lexer": "ipython3",
   "version": "3.10.10"
  }
 },
 "nbformat": 4,
 "nbformat_minor": 5
}
